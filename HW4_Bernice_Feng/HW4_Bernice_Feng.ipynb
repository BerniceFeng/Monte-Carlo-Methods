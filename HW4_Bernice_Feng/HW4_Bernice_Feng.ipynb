{
  "nbformat": 4,
  "nbformat_minor": 0,
  "metadata": {
    "colab": {
      "provenance": [],
      "collapsed_sections": []
    },
    "kernelspec": {
      "name": "python3",
      "display_name": "Python 3"
    },
    "language_info": {
      "name": "python"
    }
  },
  "cells": [
    {
      "cell_type": "code",
      "source": [
        "%pip install emcee\n",
        "%pip install corner"
      ],
      "metadata": {
        "colab": {
          "base_uri": "https://localhost:8080/"
        },
        "id": "tc6ZVZ_FAlw1",
        "outputId": "7d79b61f-b822-41d2-cb98-2f779329b9d2"
      },
      "execution_count": 1,
      "outputs": [
        {
          "output_type": "stream",
          "name": "stdout",
          "text": [
            "Looking in indexes: https://pypi.org/simple, https://us-python.pkg.dev/colab-wheels/public/simple/\n",
            "Collecting emcee\n",
            "  Downloading emcee-3.1.3-py2.py3-none-any.whl (46 kB)\n",
            "\u001b[K     |████████████████████████████████| 46 kB 2.3 MB/s \n",
            "\u001b[?25hRequirement already satisfied: numpy in /usr/local/lib/python3.7/dist-packages (from emcee) (1.21.6)\n",
            "Installing collected packages: emcee\n",
            "Successfully installed emcee-3.1.3\n",
            "Looking in indexes: https://pypi.org/simple, https://us-python.pkg.dev/colab-wheels/public/simple/\n",
            "Collecting corner\n",
            "  Downloading corner-2.2.1-py3-none-any.whl (15 kB)\n",
            "Requirement already satisfied: matplotlib>=2.1 in /usr/local/lib/python3.7/dist-packages (from corner) (3.2.2)\n",
            "Requirement already satisfied: cycler>=0.10 in /usr/local/lib/python3.7/dist-packages (from matplotlib>=2.1->corner) (0.11.0)\n",
            "Requirement already satisfied: python-dateutil>=2.1 in /usr/local/lib/python3.7/dist-packages (from matplotlib>=2.1->corner) (2.8.2)\n",
            "Requirement already satisfied: numpy>=1.11 in /usr/local/lib/python3.7/dist-packages (from matplotlib>=2.1->corner) (1.21.6)\n",
            "Requirement already satisfied: pyparsing!=2.0.4,!=2.1.2,!=2.1.6,>=2.0.1 in /usr/local/lib/python3.7/dist-packages (from matplotlib>=2.1->corner) (3.0.9)\n",
            "Requirement already satisfied: kiwisolver>=1.0.1 in /usr/local/lib/python3.7/dist-packages (from matplotlib>=2.1->corner) (1.4.4)\n",
            "Requirement already satisfied: typing-extensions in /usr/local/lib/python3.7/dist-packages (from kiwisolver>=1.0.1->matplotlib>=2.1->corner) (4.1.1)\n",
            "Requirement already satisfied: six>=1.5 in /usr/local/lib/python3.7/dist-packages (from python-dateutil>=2.1->matplotlib>=2.1->corner) (1.15.0)\n",
            "Installing collected packages: corner\n",
            "Successfully installed corner-2.2.1\n"
          ]
        }
      ]
    },
    {
      "cell_type": "code",
      "execution_count": 2,
      "metadata": {
        "id": "BhHlhZnDAfJj"
      },
      "outputs": [],
      "source": [
        "import numpy as np\n",
        "import matplotlib.pyplot as plt\n",
        "import scipy.stats as sps\n",
        "from importlib import reload\n",
        "import tqdm\n",
        "import time\n",
        "import copy\n",
        "import emcee\n",
        "from google.colab import files"
      ]
    },
    {
      "cell_type": "code",
      "source": [
        "def Ising(L):\n",
        "  # initialize model\n",
        "  return sps.bernoulli.rvs(0.5, size=(L,L))*2-1\n",
        "\n",
        "def flip(A, beta, i, j):\n",
        "  # A: ising model; (i,j): flip position; beta: 1/(k_BT)\n",
        "  L = len(A)\n",
        "  sigma = A[(i+1)%L, j] + A[(i-1)%L, j] + A[i, (j+1)%L] + A[i, (j-1)%L] # sum up neighbours\n",
        "  prob = np.exp(beta*sigma)/(np.exp(beta*sigma)+np.exp(-beta*sigma)) # prob of flip to 1\n",
        "  if np.random.random() < prob:\n",
        "    A[i,j] = 1\n",
        "  else:\n",
        "    A[i,j] = -1\n",
        "  return A"
      ],
      "metadata": {
        "id": "5qTHCgYNBBhp"
      },
      "execution_count": 3,
      "outputs": []
    },
    {
      "cell_type": "code",
      "source": [
        "def random_ising(L, beta, max_itr): # flip randomly\n",
        "  his = np.zeros(max_itr)\n",
        "  A = Ising(L) # initialize model\n",
        "  pos = np.random.randint(0, L, (2, max_itr)) # generate random position\n",
        "  for i in range(max_itr):\n",
        "    A = flip(A, beta, pos[0,i], pos[1,i]) # flip position\n",
        "    his[i] = np.sum(A)\n",
        "  return his\n",
        "\n",
        "def deterministic_ising(L, beta, max_itr): # sweep through the lattice deterministically\n",
        "  his = np.zeros(max_itr)\n",
        "  A = Ising(L) # initialize model\n",
        "  for i in range(max_itr):\n",
        "    A = flip(A, beta, i%L, i%(L*L)//L) # flip position\n",
        "    his[i] = np.sum(A)\n",
        "  return his"
      ],
      "metadata": {
        "id": "YrYqRxUywoyR"
      },
      "execution_count": 5,
      "outputs": []
    },
    {
      "cell_type": "code",
      "source": [
        "L = 10\n",
        "beta = 0.1\n",
        "max_itr = 10**6\n",
        "his1 = random_ising(L, beta, max_itr)\n",
        "# plot histogram\n",
        "plt.hist(his1, bins = 'auto')\n",
        "plt.title('histogram of magnetization')\n",
        "plt.xlabel('magnetization')\n",
        "plt.ylabel('frequency')\n",
        "plt.savefig(\"his1_0.1.png\")\n",
        "files.download(\"his1_0.1.png\")\n",
        "plt.show()"
      ],
      "metadata": {
        "colab": {
          "base_uri": "https://localhost:8080/",
          "height": 295
        },
        "id": "VC9GxSqLIo4t",
        "outputId": "ac99e98c-9e40-477c-93d5-7b9090ac40e2"
      },
      "execution_count": null,
      "outputs": [
        {
          "output_type": "display_data",
          "data": {
            "text/plain": [
              "<IPython.core.display.Javascript object>"
            ],
            "application/javascript": [
              "\n",
              "    async function download(id, filename, size) {\n",
              "      if (!google.colab.kernel.accessAllowed) {\n",
              "        return;\n",
              "      }\n",
              "      const div = document.createElement('div');\n",
              "      const label = document.createElement('label');\n",
              "      label.textContent = `Downloading \"${filename}\": `;\n",
              "      div.appendChild(label);\n",
              "      const progress = document.createElement('progress');\n",
              "      progress.max = size;\n",
              "      div.appendChild(progress);\n",
              "      document.body.appendChild(div);\n",
              "\n",
              "      const buffers = [];\n",
              "      let downloaded = 0;\n",
              "\n",
              "      const channel = await google.colab.kernel.comms.open(id);\n",
              "      // Send a message to notify the kernel that we're ready.\n",
              "      channel.send({})\n",
              "\n",
              "      for await (const message of channel.messages) {\n",
              "        // Send a message to notify the kernel that we're ready.\n",
              "        channel.send({})\n",
              "        if (message.buffers) {\n",
              "          for (const buffer of message.buffers) {\n",
              "            buffers.push(buffer);\n",
              "            downloaded += buffer.byteLength;\n",
              "            progress.value = downloaded;\n",
              "          }\n",
              "        }\n",
              "      }\n",
              "      const blob = new Blob(buffers, {type: 'application/binary'});\n",
              "      const a = document.createElement('a');\n",
              "      a.href = window.URL.createObjectURL(blob);\n",
              "      a.download = filename;\n",
              "      div.appendChild(a);\n",
              "      a.click();\n",
              "      div.remove();\n",
              "    }\n",
              "  "
            ]
          },
          "metadata": {}
        },
        {
          "output_type": "display_data",
          "data": {
            "text/plain": [
              "<IPython.core.display.Javascript object>"
            ],
            "application/javascript": [
              "download(\"download_c807902d-4b0a-4a97-850d-d6b43e590e54\", \"his1_0.1.png\", 11777)"
            ]
          },
          "metadata": {}
        },
        {
          "output_type": "display_data",
          "data": {
            "text/plain": [
              "<Figure size 432x288 with 1 Axes>"
            ],
            "image/png": "[encoded data removed]"
          },
          "metadata": {
            "needs_background": "light"
          }
        }
      ]
    },
    {
      "cell_type": "code",
      "source": [
        "L = 10\n",
        "beta = 0.1\n",
        "max_itr = 10**6\n",
        "his2 = deterministic_ising(L, beta, max_itr)\n",
        "# plot histogram\n",
        "plt.hist(his2, bins = 'auto')\n",
        "plt.title('histogram of magnetization')\n",
        "plt.xlabel('magnetization')\n",
        "plt.ylabel('frequency')\n",
        "plt.savefig(\"his2_0.1.png\")\n",
        "files.download(\"his2_0.1.png\")\n",
        "plt.show()"
      ],
      "metadata": {
        "colab": {
          "base_uri": "https://localhost:8080/",
          "height": 295
        },
        "id": "k0wMtM-i433i",
        "outputId": "2b20e687-c31f-438e-a241-aab397d1faff"
      },
      "execution_count": null,
      "outputs": [
        {
          "output_type": "display_data",
          "data": {
            "text/plain": [
              "<IPython.core.display.Javascript object>"
            ],
            "application/javascript": [
              "\n",
              "    async function download(id, filename, size) {\n",
              "      if (!google.colab.kernel.accessAllowed) {\n",
              "        return;\n",
              "      }\n",
              "      const div = document.createElement('div');\n",
              "      const label = document.createElement('label');\n",
              "      label.textContent = `Downloading \"${filename}\": `;\n",
              "      div.appendChild(label);\n",
              "      const progress = document.createElement('progress');\n",
              "      progress.max = size;\n",
              "      div.appendChild(progress);\n",
              "      document.body.appendChild(div);\n",
              "\n",
              "      const buffers = [];\n",
              "      let downloaded = 0;\n",
              "\n",
              "      const channel = await google.colab.kernel.comms.open(id);\n",
              "      // Send a message to notify the kernel that we're ready.\n",
              "      channel.send({})\n",
              "\n",
              "      for await (const message of channel.messages) {\n",
              "        // Send a message to notify the kernel that we're ready.\n",
              "        channel.send({})\n",
              "        if (message.buffers) {\n",
              "          for (const buffer of message.buffers) {\n",
              "            buffers.push(buffer);\n",
              "            downloaded += buffer.byteLength;\n",
              "            progress.value = downloaded;\n",
              "          }\n",
              "        }\n",
              "      }\n",
              "      const blob = new Blob(buffers, {type: 'application/binary'});\n",
              "      const a = document.createElement('a');\n",
              "      a.href = window.URL.createObjectURL(blob);\n",
              "      a.download = filename;\n",
              "      div.appendChild(a);\n",
              "      a.click();\n",
              "      div.remove();\n",
              "    }\n",
              "  "
            ]
          },
          "metadata": {}
        },
        {
          "output_type": "display_data",
          "data": {
            "text/plain": [
              "<IPython.core.display.Javascript object>"
            ],
            "application/javascript": [
              "download(\"download_b5448ee5-5745-4ab3-95e2-2c1586ee58bb\", \"his2_0.1.png\", 11793)"
            ]
          },
          "metadata": {}
        },
        {
          "output_type": "display_data",
          "data": {
            "text/plain": [
              "<Figure size 432x288 with 1 Axes>"
            ],
            "image/png": "[encoded data removed]"
          },
          "metadata": {
            "needs_background": "light"
          }
        }
      ]
    },
    {
      "cell_type": "code",
      "source": [
        "L = 10\n",
        "beta = 0.3\n",
        "max_itr = 10**6\n",
        "his1 = random_ising(L, beta, max_itr)\n",
        "# plot histogram\n",
        "plt.hist(his1, bins = 'auto')\n",
        "plt.title('histogram of magnetization')\n",
        "plt.xlabel('magnetization')\n",
        "plt.ylabel('frequency')\n",
        "plt.savefig(\"his1_0.3.png\")\n",
        "files.download(\"his1_0.3.png\")\n",
        "plt.show()"
      ],
      "metadata": {
        "colab": {
          "base_uri": "https://localhost:8080/",
          "height": 295
        },
        "id": "oSvZO9SXvvqD",
        "outputId": "9b339a7d-af51-4967-bf7c-edaa4ffd04ad"
      },
      "execution_count": null,
      "outputs": [
        {
          "output_type": "display_data",
          "data": {
            "text/plain": [
              "<IPython.core.display.Javascript object>"
            ],
            "application/javascript": [
              "\n",
              "    async function download(id, filename, size) {\n",
              "      if (!google.colab.kernel.accessAllowed) {\n",
              "        return;\n",
              "      }\n",
              "      const div = document.createElement('div');\n",
              "      const label = document.createElement('label');\n",
              "      label.textContent = `Downloading \"${filename}\": `;\n",
              "      div.appendChild(label);\n",
              "      const progress = document.createElement('progress');\n",
              "      progress.max = size;\n",
              "      div.appendChild(progress);\n",
              "      document.body.appendChild(div);\n",
              "\n",
              "      const buffers = [];\n",
              "      let downloaded = 0;\n",
              "\n",
              "      const channel = await google.colab.kernel.comms.open(id);\n",
              "      // Send a message to notify the kernel that we're ready.\n",
              "      channel.send({})\n",
              "\n",
              "      for await (const message of channel.messages) {\n",
              "        // Send a message to notify the kernel that we're ready.\n",
              "        channel.send({})\n",
              "        if (message.buffers) {\n",
              "          for (const buffer of message.buffers) {\n",
              "            buffers.push(buffer);\n",
              "            downloaded += buffer.byteLength;\n",
              "            progress.value = downloaded;\n",
              "          }\n",
              "        }\n",
              "      }\n",
              "      const blob = new Blob(buffers, {type: 'application/binary'});\n",
              "      const a = document.createElement('a');\n",
              "      a.href = window.URL.createObjectURL(blob);\n",
              "      a.download = filename;\n",
              "      div.appendChild(a);\n",
              "      a.click();\n",
              "      div.remove();\n",
              "    }\n",
              "  "
            ]
          },
          "metadata": {}
        },
        {
          "output_type": "display_data",
          "data": {
            "text/plain": [
              "<IPython.core.display.Javascript object>"
            ],
            "application/javascript": [
              "download(\"download_63a62c4e-0ba1-45bd-86af-7767fa4a8f61\", \"his1_0.3.png\", 11242)"
            ]
          },
          "metadata": {}
        },
        {
          "output_type": "display_data",
          "data": {
            "text/plain": [
              "<Figure size 432x288 with 1 Axes>"
            ],
            "image/png": "[encoded data removed]"
          },
          "metadata": {
            "needs_background": "light"
          }
        }
      ]
    },
    {
      "cell_type": "code",
      "source": [
        "L = 10\n",
        "beta = 0.3\n",
        "max_itr = 10**6\n",
        "his1 = deterministic_ising(L, beta, max_itr)\n",
        "# plot histogram\n",
        "plt.hist(his1, bins = 'auto')\n",
        "plt.title('histogram of magnetization')\n",
        "plt.xlabel('magnetization')\n",
        "plt.ylabel('frequency')\n",
        "plt.savefig(\"his2_0.3.png\")\n",
        "files.download(\"his2_0.3.png\")\n",
        "plt.show()"
      ],
      "metadata": {
        "colab": {
          "base_uri": "https://localhost:8080/",
          "height": 295
        },
        "id": "pymSRl17wfqs",
        "outputId": "38d4ee74-ec28-4c1e-a50d-1e405b1426ba"
      },
      "execution_count": null,
      "outputs": [
        {
          "output_type": "display_data",
          "data": {
            "text/plain": [
              "<IPython.core.display.Javascript object>"
            ],
            "application/javascript": [
              "\n",
              "    async function download(id, filename, size) {\n",
              "      if (!google.colab.kernel.accessAllowed) {\n",
              "        return;\n",
              "      }\n",
              "      const div = document.createElement('div');\n",
              "      const label = document.createElement('label');\n",
              "      label.textContent = `Downloading \"${filename}\": `;\n",
              "      div.appendChild(label);\n",
              "      const progress = document.createElement('progress');\n",
              "      progress.max = size;\n",
              "      div.appendChild(progress);\n",
              "      document.body.appendChild(div);\n",
              "\n",
              "      const buffers = [];\n",
              "      let downloaded = 0;\n",
              "\n",
              "      const channel = await google.colab.kernel.comms.open(id);\n",
              "      // Send a message to notify the kernel that we're ready.\n",
              "      channel.send({})\n",
              "\n",
              "      for await (const message of channel.messages) {\n",
              "        // Send a message to notify the kernel that we're ready.\n",
              "        channel.send({})\n",
              "        if (message.buffers) {\n",
              "          for (const buffer of message.buffers) {\n",
              "            buffers.push(buffer);\n",
              "            downloaded += buffer.byteLength;\n",
              "            progress.value = downloaded;\n",
              "          }\n",
              "        }\n",
              "      }\n",
              "      const blob = new Blob(buffers, {type: 'application/binary'});\n",
              "      const a = document.createElement('a');\n",
              "      a.href = window.URL.createObjectURL(blob);\n",
              "      a.download = filename;\n",
              "      div.appendChild(a);\n",
              "      a.click();\n",
              "      div.remove();\n",
              "    }\n",
              "  "
            ]
          },
          "metadata": {}
        },
        {
          "output_type": "display_data",
          "data": {
            "text/plain": [
              "<IPython.core.display.Javascript object>"
            ],
            "application/javascript": [
              "download(\"download_7ef668e3-4dbf-4848-9f21-704e0148d35e\", \"his2_0.3.png\", 11216)"
            ]
          },
          "metadata": {}
        },
        {
          "output_type": "display_data",
          "data": {
            "text/plain": [
              "<Figure size 432x288 with 1 Axes>"
            ],
            "image/png": "[encoded data removed]"
          },
          "metadata": {
            "needs_background": "light"
          }
        }
      ]
    },
    {
      "cell_type": "code",
      "source": [
        "L = 10\n",
        "beta = 0.4\n",
        "max_itr = 10**6\n",
        "his1 = random_ising(L, beta, max_itr)\n",
        "# plot histogram\n",
        "plt.hist(his1, bins = 'auto')\n",
        "plt.title('histogram of magnetization')\n",
        "plt.xlabel('magnetization')\n",
        "plt.ylabel('frequency')\n",
        "plt.savefig(\"his1_0.4.png\")\n",
        "files.download(\"his1_0.4.png\")\n",
        "plt.show()"
      ],
      "metadata": {
        "colab": {
          "base_uri": "https://localhost:8080/",
          "height": 295
        },
        "id": "WqFLhhvmvJek",
        "outputId": "d149bc51-133d-4b9c-d46c-2e2286f7f8ed"
      },
      "execution_count": null,
      "outputs": [
        {
          "output_type": "display_data",
          "data": {
            "text/plain": [
              "<IPython.core.display.Javascript object>"
            ],
            "application/javascript": [
              "\n",
              "    async function download(id, filename, size) {\n",
              "      if (!google.colab.kernel.accessAllowed) {\n",
              "        return;\n",
              "      }\n",
              "      const div = document.createElement('div');\n",
              "      const label = document.createElement('label');\n",
              "      label.textContent = `Downloading \"${filename}\": `;\n",
              "      div.appendChild(label);\n",
              "      const progress = document.createElement('progress');\n",
              "      progress.max = size;\n",
              "      div.appendChild(progress);\n",
              "      document.body.appendChild(div);\n",
              "\n",
              "      const buffers = [];\n",
              "      let downloaded = 0;\n",
              "\n",
              "      const channel = await google.colab.kernel.comms.open(id);\n",
              "      // Send a message to notify the kernel that we're ready.\n",
              "      channel.send({})\n",
              "\n",
              "      for await (const message of channel.messages) {\n",
              "        // Send a message to notify the kernel that we're ready.\n",
              "        channel.send({})\n",
              "        if (message.buffers) {\n",
              "          for (const buffer of message.buffers) {\n",
              "            buffers.push(buffer);\n",
              "            downloaded += buffer.byteLength;\n",
              "            progress.value = downloaded;\n",
              "          }\n",
              "        }\n",
              "      }\n",
              "      const blob = new Blob(buffers, {type: 'application/binary'});\n",
              "      const a = document.createElement('a');\n",
              "      a.href = window.URL.createObjectURL(blob);\n",
              "      a.download = filename;\n",
              "      div.appendChild(a);\n",
              "      a.click();\n",
              "      div.remove();\n",
              "    }\n",
              "  "
            ]
          },
          "metadata": {}
        },
        {
          "output_type": "display_data",
          "data": {
            "text/plain": [
              "<IPython.core.display.Javascript object>"
            ],
            "application/javascript": [
              "download(\"download_add55763-c56f-41c8-a028-8758b52c7a32\", \"his1_0.4.png\", 13520)"
            ]
          },
          "metadata": {}
        },
        {
          "output_type": "display_data",
          "data": {
            "text/plain": [
              "<Figure size 432x288 with 1 Axes>"
            ],
            "image/png": "[encoded data removed]"
          },
          "metadata": {
            "needs_background": "light"
          }
        }
      ]
    },
    {
      "cell_type": "code",
      "source": [
        "L = 10\n",
        "beta = 0.4\n",
        "max_itr = 10**6\n",
        "his2 = deterministic_ising(L, beta, max_itr)\n",
        "# plot histogram\n",
        "plt.hist(his2, bins = 'auto')\n",
        "plt.title('histogram of magnetization')\n",
        "plt.xlabel('magnetization')\n",
        "plt.ylabel('frequency')\n",
        "plt.savefig(\"his2_0.4.png\")\n",
        "files.download(\"his2_0.4.png\")\n",
        "plt.show()"
      ],
      "metadata": {
        "colab": {
          "base_uri": "https://localhost:8080/",
          "height": 295
        },
        "id": "V_URk6tWvMHj",
        "outputId": "03deeb3d-48b6-408c-b5f0-e595a6aeaa5f"
      },
      "execution_count": null,
      "outputs": [
        {
          "output_type": "display_data",
          "data": {
            "text/plain": [
              "<IPython.core.display.Javascript object>"
            ],
            "application/javascript": [
              "\n",
              "    async function download(id, filename, size) {\n",
              "      if (!google.colab.kernel.accessAllowed) {\n",
              "        return;\n",
              "      }\n",
              "      const div = document.createElement('div');\n",
              "      const label = document.createElement('label');\n",
              "      label.textContent = `Downloading \"${filename}\": `;\n",
              "      div.appendChild(label);\n",
              "      const progress = document.createElement('progress');\n",
              "      progress.max = size;\n",
              "      div.appendChild(progress);\n",
              "      document.body.appendChild(div);\n",
              "\n",
              "      const buffers = [];\n",
              "      let downloaded = 0;\n",
              "\n",
              "      const channel = await google.colab.kernel.comms.open(id);\n",
              "      // Send a message to notify the kernel that we're ready.\n",
              "      channel.send({})\n",
              "\n",
              "      for await (const message of channel.messages) {\n",
              "        // Send a message to notify the kernel that we're ready.\n",
              "        channel.send({})\n",
              "        if (message.buffers) {\n",
              "          for (const buffer of message.buffers) {\n",
              "            buffers.push(buffer);\n",
              "            downloaded += buffer.byteLength;\n",
              "            progress.value = downloaded;\n",
              "          }\n",
              "        }\n",
              "      }\n",
              "      const blob = new Blob(buffers, {type: 'application/binary'});\n",
              "      const a = document.createElement('a');\n",
              "      a.href = window.URL.createObjectURL(blob);\n",
              "      a.download = filename;\n",
              "      div.appendChild(a);\n",
              "      a.click();\n",
              "      div.remove();\n",
              "    }\n",
              "  "
            ]
          },
          "metadata": {}
        },
        {
          "output_type": "display_data",
          "data": {
            "text/plain": [
              "<IPython.core.display.Javascript object>"
            ],
            "application/javascript": [
              "download(\"download_81a906d8-0982-4a7f-9c20-b3258e10fe6c\", \"his2_0.4.png\", 11057)"
            ]
          },
          "metadata": {}
        },
        {
          "output_type": "display_data",
          "data": {
            "text/plain": [
              "<Figure size 432x288 with 1 Axes>"
            ],
            "image/png": "[encoded data removed]"
          },
          "metadata": {
            "needs_background": "light"
          }
        }
      ]
    },
    {
      "cell_type": "code",
      "source": [
        "L = 10\n",
        "beta = 0.5\n",
        "max_itr = 10**6\n",
        "his1 = random_ising(L, beta, max_itr)\n",
        "# plot histogram\n",
        "plt.hist(his1, bins = 'auto')\n",
        "plt.title('histogram of magnetization')\n",
        "plt.xlabel('magnetization')\n",
        "plt.ylabel('frequency')\n",
        "plt.savefig(\"his1_0.5.png\")\n",
        "files.download(\"his1_0.5.png\")\n",
        "plt.show()"
      ],
      "metadata": {
        "colab": {
          "base_uri": "https://localhost:8080/",
          "height": 295
        },
        "id": "v1PjCOvgMWKh",
        "outputId": "2e04b9ba-2938-40eb-ddf8-c9394b530ce0"
      },
      "execution_count": 6,
      "outputs": [
        {
          "output_type": "display_data",
          "data": {
            "text/plain": [
              "<IPython.core.display.Javascript object>"
            ],
            "application/javascript": [
              "\n",
              "    async function download(id, filename, size) {\n",
              "      if (!google.colab.kernel.accessAllowed) {\n",
              "        return;\n",
              "      }\n",
              "      const div = document.createElement('div');\n",
              "      const label = document.createElement('label');\n",
              "      label.textContent = `Downloading \"${filename}\": `;\n",
              "      div.appendChild(label);\n",
              "      const progress = document.createElement('progress');\n",
              "      progress.max = size;\n",
              "      div.appendChild(progress);\n",
              "      document.body.appendChild(div);\n",
              "\n",
              "      const buffers = [];\n",
              "      let downloaded = 0;\n",
              "\n",
              "      const channel = await google.colab.kernel.comms.open(id);\n",
              "      // Send a message to notify the kernel that we're ready.\n",
              "      channel.send({})\n",
              "\n",
              "      for await (const message of channel.messages) {\n",
              "        // Send a message to notify the kernel that we're ready.\n",
              "        channel.send({})\n",
              "        if (message.buffers) {\n",
              "          for (const buffer of message.buffers) {\n",
              "            buffers.push(buffer);\n",
              "            downloaded += buffer.byteLength;\n",
              "            progress.value = downloaded;\n",
              "          }\n",
              "        }\n",
              "      }\n",
              "      const blob = new Blob(buffers, {type: 'application/binary'});\n",
              "      const a = document.createElement('a');\n",
              "      a.href = window.URL.createObjectURL(blob);\n",
              "      a.download = filename;\n",
              "      div.appendChild(a);\n",
              "      a.click();\n",
              "      div.remove();\n",
              "    }\n",
              "  "
            ]
          },
          "metadata": {}
        },
        {
          "output_type": "display_data",
          "data": {
            "text/plain": [
              "<IPython.core.display.Javascript object>"
            ],
            "application/javascript": [
              "download(\"download_dd5dd88a-84e5-4fb6-bfd7-97740f2bd991\", \"his1_0.5.png\", 12420)"
            ]
          },
          "metadata": {}
        },
        {
          "output_type": "display_data",
          "data": {
            "text/plain": [
              "<Figure size 432x288 with 1 Axes>"
            ],
            "image/png": "[encoded data removed]"
          },
          "metadata": {
            "needs_background": "light"
          }
        }
      ]
    },
    {
      "cell_type": "code",
      "source": [
        "L = 10\n",
        "beta = 0.5\n",
        "max_itr = 10**6\n",
        "his2 = deterministic_ising(L, beta, max_itr)\n",
        "# plot histogram\n",
        "plt.hist(his2, bins = 'auto')\n",
        "plt.title('histogram of magnetization')\n",
        "plt.xlabel('magnetization')\n",
        "plt.ylabel('frequency')\n",
        "plt.savefig(\"his2_0.5.png\")\n",
        "files.download(\"his2_0.5.png\")\n",
        "plt.show()"
      ],
      "metadata": {
        "colab": {
          "base_uri": "https://localhost:8080/",
          "height": 295
        },
        "id": "IIs8Hb6sMcLM",
        "outputId": "c66308f1-33f1-4f22-c3d2-758c886d8e39"
      },
      "execution_count": 8,
      "outputs": [
        {
          "output_type": "display_data",
          "data": {
            "text/plain": [
              "<IPython.core.display.Javascript object>"
            ],
            "application/javascript": [
              "\n",
              "    async function download(id, filename, size) {\n",
              "      if (!google.colab.kernel.accessAllowed) {\n",
              "        return;\n",
              "      }\n",
              "      const div = document.createElement('div');\n",
              "      const label = document.createElement('label');\n",
              "      label.textContent = `Downloading \"${filename}\": `;\n",
              "      div.appendChild(label);\n",
              "      const progress = document.createElement('progress');\n",
              "      progress.max = size;\n",
              "      div.appendChild(progress);\n",
              "      document.body.appendChild(div);\n",
              "\n",
              "      const buffers = [];\n",
              "      let downloaded = 0;\n",
              "\n",
              "      const channel = await google.colab.kernel.comms.open(id);\n",
              "      // Send a message to notify the kernel that we're ready.\n",
              "      channel.send({})\n",
              "\n",
              "      for await (const message of channel.messages) {\n",
              "        // Send a message to notify the kernel that we're ready.\n",
              "        channel.send({})\n",
              "        if (message.buffers) {\n",
              "          for (const buffer of message.buffers) {\n",
              "            buffers.push(buffer);\n",
              "            downloaded += buffer.byteLength;\n",
              "            progress.value = downloaded;\n",
              "          }\n",
              "        }\n",
              "      }\n",
              "      const blob = new Blob(buffers, {type: 'application/binary'});\n",
              "      const a = document.createElement('a');\n",
              "      a.href = window.URL.createObjectURL(blob);\n",
              "      a.download = filename;\n",
              "      div.appendChild(a);\n",
              "      a.click();\n",
              "      div.remove();\n",
              "    }\n",
              "  "
            ]
          },
          "metadata": {}
        },
        {
          "output_type": "display_data",
          "data": {
            "text/plain": [
              "<IPython.core.display.Javascript object>"
            ],
            "application/javascript": [
              "download(\"download_09319df2-be08-4444-9534-5c016618b89e\", \"his2_0.5.png\", 11987)"
            ]
          },
          "metadata": {}
        },
        {
          "output_type": "display_data",
          "data": {
            "text/plain": [
              "<Figure size 432x288 with 1 Axes>"
            ],
            "image/png": "[encoded data removed]"
          },
          "metadata": {
            "needs_background": "light"
          }
        }
      ]
    },
    {
      "cell_type": "code",
      "source": [
        "beta_list = [0.1]\n",
        "lattice_list = [5, 10, 15, 20, 25, 30]\n",
        "max_itr = 10**6\n",
        "his_matrix1 = np.zeros((len(beta_list), len(lattice_list)))\n",
        "for i in range(len(beta_list)):\n",
        "  for j in range(len(lattice_list)):\n",
        "    history = random_ising(lattice_list[j], beta_list[i], max_itr)\n",
        "    his_matrix1[i,j] = emcee.autocorr.integrated_time(history, quiet=True)\n",
        "l1 = his_matrix1[0]\n",
        "print(l1)"
      ],
      "metadata": {
        "colab": {
          "base_uri": "https://localhost:8080/"
        },
        "id": "wQWULqkiUJ7r",
        "outputId": "ee39f3e9-818d-4c45-84a5-85ab4032e0cd"
      },
      "execution_count": null,
      "outputs": [
        {
          "output_type": "stream",
          "name": "stdout",
          "text": [
            "[  78.77384093  312.05386433  714.40460099 1012.1067968  1887.31876268\n",
            " 2732.3757656 ]\n"
          ]
        }
      ]
    },
    {
      "cell_type": "code",
      "source": [
        "beta_list = [0.1]\n",
        "lattice_list = [5, 10, 15, 20, 25, 30]\n",
        "max_itr = 10**6\n",
        "his_matrix2 = np.zeros((len(beta_list), len(lattice_list)))\n",
        "for i in range(len(beta_list)):\n",
        "  for j in range(len(lattice_list)):\n",
        "    history = deterministic_ising(lattice_list[j], beta_list[i], max_itr)\n",
        "    his_matrix2[i,j] = emcee.autocorr.integrated_time(history, quiet=True)\n",
        "l2 = his_matrix2[0]\n",
        "print(l2)"
      ],
      "metadata": {
        "colab": {
          "base_uri": "https://localhost:8080/"
        },
        "id": "Bx4WNfRRmqRE",
        "outputId": "fa73169e-e3ec-4405-e967-6a329023cfef"
      },
      "execution_count": null,
      "outputs": [
        {
          "output_type": "stream",
          "name": "stdout",
          "text": [
            "[  41.45836737  190.79359556  347.59365397  619.62224946 1065.25213614\n",
            " 1536.18048108]\n"
          ]
        }
      ]
    },
    {
      "cell_type": "code",
      "source": [
        "plt.plot(np.array(lattice_list), l1, label = \"Random Gibbs\")\n",
        "plt.plot(np.array(lattice_list), l2, label = \"Deterministic Gibbs\")\n",
        "plt.plot(np.array(lattice_list), np.array(lattice_list)**2, label = \"L^2 (for reference)\")\n",
        "plt.title('Autocorrelation Time v.s. L')\n",
        "plt.xlabel('L')\n",
        "plt.ylabel('autocorrelation time')\n",
        "plt.grid(visible=True, which='both', axis='both')\n",
        "plt.legend()\n",
        "plt.savefig(\"AvsL1.png\")\n",
        "files.download(\"AvsL1.png\")\n",
        "plt.show()"
      ],
      "metadata": {
        "colab": {
          "base_uri": "https://localhost:8080/",
          "height": 295
        },
        "id": "imuSgylitYf0",
        "outputId": "68df5462-1fcf-49f4-b574-1e0dfbee7696"
      },
      "execution_count": null,
      "outputs": [
        {
          "output_type": "display_data",
          "data": {
            "text/plain": [
              "<IPython.core.display.Javascript object>"
            ],
            "application/javascript": [
              "\n",
              "    async function download(id, filename, size) {\n",
              "      if (!google.colab.kernel.accessAllowed) {\n",
              "        return;\n",
              "      }\n",
              "      const div = document.createElement('div');\n",
              "      const label = document.createElement('label');\n",
              "      label.textContent = `Downloading \"${filename}\": `;\n",
              "      div.appendChild(label);\n",
              "      const progress = document.createElement('progress');\n",
              "      progress.max = size;\n",
              "      div.appendChild(progress);\n",
              "      document.body.appendChild(div);\n",
              "\n",
              "      const buffers = [];\n",
              "      let downloaded = 0;\n",
              "\n",
              "      const channel = await google.colab.kernel.comms.open(id);\n",
              "      // Send a message to notify the kernel that we're ready.\n",
              "      channel.send({})\n",
              "\n",
              "      for await (const message of channel.messages) {\n",
              "        // Send a message to notify the kernel that we're ready.\n",
              "        channel.send({})\n",
              "        if (message.buffers) {\n",
              "          for (const buffer of message.buffers) {\n",
              "            buffers.push(buffer);\n",
              "            downloaded += buffer.byteLength;\n",
              "            progress.value = downloaded;\n",
              "          }\n",
              "        }\n",
              "      }\n",
              "      const blob = new Blob(buffers, {type: 'application/binary'});\n",
              "      const a = document.createElement('a');\n",
              "      a.href = window.URL.createObjectURL(blob);\n",
              "      a.download = filename;\n",
              "      div.appendChild(a);\n",
              "      a.click();\n",
              "      div.remove();\n",
              "    }\n",
              "  "
            ]
          },
          "metadata": {}
        },
        {
          "output_type": "display_data",
          "data": {
            "text/plain": [
              "<IPython.core.display.Javascript object>"
            ],
            "application/javascript": [
              "download(\"download_ad8f9e93-2074-493f-96b8-cfae3944dad8\", \"AvsL1.png\", 23539)"
            ]
          },
          "metadata": {}
        },
        {
          "output_type": "display_data",
          "data": {
            "text/plain": [
              "<Figure size 432x288 with 1 Axes>"
            ],
            "image/png": "[encoded data removed]"
          },
          "metadata": {
            "needs_background": "light"
          }
        }
      ]
    },
    {
      "cell_type": "code",
      "source": [
        "plt.plot(np.array(lattice_list), l1, label = \"Random Gibbs\")\n",
        "plt.plot(np.array(lattice_list), l2, label = \"Deterministic Gibbs\")\n",
        "plt.plot(np.array(lattice_list), np.array(lattice_list)**2, label = \"L^2 (for reference)\")\n",
        "plt.title('Autocorrelation Time v.s. L')\n",
        "plt.xscale('log')\n",
        "plt.yscale('log')\n",
        "plt.xlabel('log L')\n",
        "plt.ylabel('log autocorrelation time')\n",
        "plt.grid(visible=True, which='both', axis='both')\n",
        "plt.legend()\n",
        "plt.savefig(\"AvsL2.png\")\n",
        "files.download(\"AvsL2.png\")\n",
        "plt.show()"
      ],
      "metadata": {
        "colab": {
          "base_uri": "https://localhost:8080/",
          "height": 299
        },
        "id": "4SMS-0qVuPWx",
        "outputId": "7064c9fb-d434-4c2f-c8d2-4d08442909de"
      },
      "execution_count": null,
      "outputs": [
        {
          "output_type": "display_data",
          "data": {
            "text/plain": [
              "<IPython.core.display.Javascript object>"
            ],
            "application/javascript": [
              "\n",
              "    async function download(id, filename, size) {\n",
              "      if (!google.colab.kernel.accessAllowed) {\n",
              "        return;\n",
              "      }\n",
              "      const div = document.createElement('div');\n",
              "      const label = document.createElement('label');\n",
              "      label.textContent = `Downloading \"${filename}\": `;\n",
              "      div.appendChild(label);\n",
              "      const progress = document.createElement('progress');\n",
              "      progress.max = size;\n",
              "      div.appendChild(progress);\n",
              "      document.body.appendChild(div);\n",
              "\n",
              "      const buffers = [];\n",
              "      let downloaded = 0;\n",
              "\n",
              "      const channel = await google.colab.kernel.comms.open(id);\n",
              "      // Send a message to notify the kernel that we're ready.\n",
              "      channel.send({})\n",
              "\n",
              "      for await (const message of channel.messages) {\n",
              "        // Send a message to notify the kernel that we're ready.\n",
              "        channel.send({})\n",
              "        if (message.buffers) {\n",
              "          for (const buffer of message.buffers) {\n",
              "            buffers.push(buffer);\n",
              "            downloaded += buffer.byteLength;\n",
              "            progress.value = downloaded;\n",
              "          }\n",
              "        }\n",
              "      }\n",
              "      const blob = new Blob(buffers, {type: 'application/binary'});\n",
              "      const a = document.createElement('a');\n",
              "      a.href = window.URL.createObjectURL(blob);\n",
              "      a.download = filename;\n",
              "      div.appendChild(a);\n",
              "      a.click();\n",
              "      div.remove();\n",
              "    }\n",
              "  "
            ]
          },
          "metadata": {}
        },
        {
          "output_type": "display_data",
          "data": {
            "text/plain": [
              "<IPython.core.display.Javascript object>"
            ],
            "application/javascript": [
              "download(\"download_96eee2b4-85d7-4119-9ebf-772124c7f3ba\", \"AvsL2.png\", 24869)"
            ]
          },
          "metadata": {}
        },
        {
          "output_type": "display_data",
          "data": {
            "text/plain": [
              "<Figure size 432x288 with 1 Axes>"
            ],
            "image/png": "[encoded data removed]"
          },
          "metadata": {
            "needs_background": "light"
          }
        }
      ]
    },
    {
      "cell_type": "code",
      "source": [
        "beta_list = [0.1, 0.2, 0.3, 0.4, 0.5, 0.6, 0.7, 0.8]\n",
        "lattice_list = [10]\n",
        "max_itr = 10**6\n",
        "his_matrix3 = np.zeros((len(beta_list), len(lattice_list)))\n",
        "for i in range(len(beta_list)):\n",
        "  for j in range(len(lattice_list)):\n",
        "    history = random_ising(lattice_list[j], beta_list[i], max_itr)\n",
        "    his_matrix3[i,j] = emcee.autocorr.integrated_time(history, quiet=True)\n",
        "l3 = his_matrix3[:,0]\n",
        "print(l3)"
      ],
      "metadata": {
        "colab": {
          "base_uri": "https://localhost:8080/"
        },
        "id": "Jmttd41xIqhr",
        "outputId": "4781c171-52aa-4c8c-f5d2-cd9e1d0b5eb0"
      },
      "execution_count": null,
      "outputs": [
        {
          "output_type": "stream",
          "name": "stderr",
          "text": [
            "WARNING:emcee.autocorr:The chain is shorter than 50 times the integrated autocorrelation time for 1 parameter(s). Use this estimate with caution and run a longer chain!\n",
            "N/50 = 20000;\n",
            "tau: [24283.95517463]\n"
          ]
        },
        {
          "output_type": "stream",
          "name": "stdout",
          "text": [
            "[  293.94548858   675.07935181  2583.17652659 24283.95517463\n",
            "  1143.04211919   599.6010048   1761.21638514  5569.83678075]\n"
          ]
        }
      ]
    },
    {
      "cell_type": "code",
      "source": [
        "beta_list = [0.1, 0.2, 0.3, 0.4, 0.5, 0.6, 0.7, 0.8]\n",
        "lattice_list = [10]\n",
        "max_itr = 10**6\n",
        "his_matrix4 = np.zeros((len(beta_list), len(lattice_list)))\n",
        "for i in range(len(beta_list)):\n",
        "  for j in range(len(lattice_list)):\n",
        "    history = deterministic_ising(lattice_list[j], beta_list[i], max_itr)\n",
        "    his_matrix4[i,j] = emcee.autocorr.integrated_time(history, quiet=True)\n",
        "l4 = his_matrix4[:,0]\n",
        "print(l4)"
      ],
      "metadata": {
        "colab": {
          "base_uri": "https://localhost:8080/"
        },
        "id": "u6E0XhgMBqit",
        "outputId": "d5197aa1-cd2e-4243-a930-91d2a437cb9a"
      },
      "execution_count": null,
      "outputs": [
        {
          "output_type": "stream",
          "name": "stderr",
          "text": [
            "WARNING:emcee.autocorr:The chain is shorter than 50 times the integrated autocorrelation time for 1 parameter(s). Use this estimate with caution and run a longer chain!\n",
            "N/50 = 20000;\n",
            "tau: [74802.75859826]\n"
          ]
        },
        {
          "output_type": "stream",
          "name": "stdout",
          "text": [
            "[  160.79677756   339.90970752  1269.43753044 10428.85930701\n",
            " 74802.75859826   346.69430976  1137.55147253   262.75012271]\n"
          ]
        }
      ]
    },
    {
      "cell_type": "code",
      "source": [
        "plt.plot(beta_list, l3, label = \"Random Gibbs\")\n",
        "plt.plot(beta_list, l4, label = \"Deterministic Gibbs\")\n",
        "plt.title('Autocorrelation Time v.s. beta')\n",
        "plt.xlabel('beta')\n",
        "plt.ylabel('autocorrelation time')\n",
        "plt.grid(visible=True, which='both', axis='both')\n",
        "plt.legend()\n",
        "plt.savefig(\"Avsb1.png\")\n",
        "files.download(\"Avsb1.png\")\n",
        "plt.show()"
      ],
      "metadata": {
        "colab": {
          "base_uri": "https://localhost:8080/",
          "height": 295
        },
        "id": "5m1EpdDCMTgy",
        "outputId": "50d7c915-64a9-4b11-a6f5-2398212de1cd"
      },
      "execution_count": null,
      "outputs": [
        {
          "output_type": "display_data",
          "data": {
            "text/plain": [
              "<IPython.core.display.Javascript object>"
            ],
            "application/javascript": [
              "\n",
              "    async function download(id, filename, size) {\n",
              "      if (!google.colab.kernel.accessAllowed) {\n",
              "        return;\n",
              "      }\n",
              "      const div = document.createElement('div');\n",
              "      const label = document.createElement('label');\n",
              "      label.textContent = `Downloading \"${filename}\": `;\n",
              "      div.appendChild(label);\n",
              "      const progress = document.createElement('progress');\n",
              "      progress.max = size;\n",
              "      div.appendChild(progress);\n",
              "      document.body.appendChild(div);\n",
              "\n",
              "      const buffers = [];\n",
              "      let downloaded = 0;\n",
              "\n",
              "      const channel = await google.colab.kernel.comms.open(id);\n",
              "      // Send a message to notify the kernel that we're ready.\n",
              "      channel.send({})\n",
              "\n",
              "      for await (const message of channel.messages) {\n",
              "        // Send a message to notify the kernel that we're ready.\n",
              "        channel.send({})\n",
              "        if (message.buffers) {\n",
              "          for (const buffer of message.buffers) {\n",
              "            buffers.push(buffer);\n",
              "            downloaded += buffer.byteLength;\n",
              "            progress.value = downloaded;\n",
              "          }\n",
              "        }\n",
              "      }\n",
              "      const blob = new Blob(buffers, {type: 'application/binary'});\n",
              "      const a = document.createElement('a');\n",
              "      a.href = window.URL.createObjectURL(blob);\n",
              "      a.download = filename;\n",
              "      div.appendChild(a);\n",
              "      a.click();\n",
              "      div.remove();\n",
              "    }\n",
              "  "
            ]
          },
          "metadata": {}
        },
        {
          "output_type": "display_data",
          "data": {
            "text/plain": [
              "<IPython.core.display.Javascript object>"
            ],
            "application/javascript": [
              "download(\"download_5f471976-0f76-45df-aaf1-07f3c82ec700\", \"Avsb1.png\", 24295)"
            ]
          },
          "metadata": {}
        },
        {
          "output_type": "display_data",
          "data": {
            "text/plain": [
              "<Figure size 432x288 with 1 Axes>"
            ],
            "image/png": "[encoded data removed]"
          },
          "metadata": {
            "needs_background": "light"
          }
        }
      ]
    },
    {
      "cell_type": "code",
      "source": [
        "plt.plot(beta_list, l3, label = \"Random Gibbs\")\n",
        "plt.plot(beta_list, l4, label = \"Deterministic Gibbs\")\n",
        "plt.title('Autocorrelation Time v.s. beta')\n",
        "plt.xscale('log')\n",
        "plt.yscale('log')\n",
        "plt.xlabel('log beta')\n",
        "plt.ylabel('log autocorrelation time')\n",
        "plt.grid(visible=True, which='both', axis='both')\n",
        "plt.savefig(\"Avsb2.png\")\n",
        "files.download(\"Avsb2.png\")\n",
        "plt.legend()\n",
        "plt.show()"
      ],
      "metadata": {
        "colab": {
          "base_uri": "https://localhost:8080/",
          "height": 299
        },
        "id": "v3-8mJCLJtWw",
        "outputId": "799b4c25-6d5b-4cc4-f7c1-5af0281891ff"
      },
      "execution_count": null,
      "outputs": [
        {
          "output_type": "display_data",
          "data": {
            "text/plain": [
              "<IPython.core.display.Javascript object>"
            ],
            "application/javascript": [
              "\n",
              "    async function download(id, filename, size) {\n",
              "      if (!google.colab.kernel.accessAllowed) {\n",
              "        return;\n",
              "      }\n",
              "      const div = document.createElement('div');\n",
              "      const label = document.createElement('label');\n",
              "      label.textContent = `Downloading \"${filename}\": `;\n",
              "      div.appendChild(label);\n",
              "      const progress = document.createElement('progress');\n",
              "      progress.max = size;\n",
              "      div.appendChild(progress);\n",
              "      document.body.appendChild(div);\n",
              "\n",
              "      const buffers = [];\n",
              "      let downloaded = 0;\n",
              "\n",
              "      const channel = await google.colab.kernel.comms.open(id);\n",
              "      // Send a message to notify the kernel that we're ready.\n",
              "      channel.send({})\n",
              "\n",
              "      for await (const message of channel.messages) {\n",
              "        // Send a message to notify the kernel that we're ready.\n",
              "        channel.send({})\n",
              "        if (message.buffers) {\n",
              "          for (const buffer of message.buffers) {\n",
              "            buffers.push(buffer);\n",
              "            downloaded += buffer.byteLength;\n",
              "            progress.value = downloaded;\n",
              "          }\n",
              "        }\n",
              "      }\n",
              "      const blob = new Blob(buffers, {type: 'application/binary'});\n",
              "      const a = document.createElement('a');\n",
              "      a.href = window.URL.createObjectURL(blob);\n",
              "      a.download = filename;\n",
              "      div.appendChild(a);\n",
              "      a.click();\n",
              "      div.remove();\n",
              "    }\n",
              "  "
            ]
          },
          "metadata": {}
        },
        {
          "output_type": "display_data",
          "data": {
            "text/plain": [
              "<IPython.core.display.Javascript object>"
            ],
            "application/javascript": [
              "download(\"download_c98f400c-c19f-4c91-b9ca-57f2a1bfc162\", \"Avsb2.png\", 22959)"
            ]
          },
          "metadata": {}
        },
        {
          "output_type": "display_data",
          "data": {
            "text/plain": [
              "<Figure size 432x288 with 1 Axes>"
            ],
            "image/png": "[encoded data removed]"
          },
          "metadata": {
            "needs_background": "light"
          }
        }
      ]
    },
    {
      "cell_type": "code",
      "source": [
        "beta1 = 0.1\n",
        "beta2 = 0.5\n",
        "hist1 = deterministic_ising(10, beta1, 10**6)\n",
        "hist2 = deterministic_ising(10, beta2, 10**6)"
      ],
      "metadata": {
        "id": "AwtT03CnLbbS"
      },
      "execution_count": null,
      "outputs": []
    },
    {
      "cell_type": "code",
      "source": [
        "max_itr = 10**6\n",
        "bin = [i for i in range(max_itr)]\n",
        "plt.plot(bin, hist1, label = \"beta=0.1\", linewidth=0.5)\n",
        "plt.plot(bin, hist2, label = \"beta=0.5\", linewidth=0.5)\n",
        "plt.title('Magenization v.s. iteration')\n",
        "plt.xlabel('iteration')\n",
        "plt.ylabel('Magenization')\n",
        "plt.grid(visible=True, which='both', axis='both')\n",
        "plt.legend()\n",
        "plt.savefig(\"b1b2.png\")\n",
        "files.download(\"b1b2.png\")\n",
        "plt.show()"
      ],
      "metadata": {
        "colab": {
          "base_uri": "https://localhost:8080/",
          "height": 295
        },
        "id": "tS95hqpXLnFE",
        "outputId": "50757942-0562-4d38-d93c-0aa5597d8801"
      },
      "execution_count": null,
      "outputs": [
        {
          "output_type": "display_data",
          "data": {
            "text/plain": [
              "<IPython.core.display.Javascript object>"
            ],
            "application/javascript": [
              "\n",
              "    async function download(id, filename, size) {\n",
              "      if (!google.colab.kernel.accessAllowed) {\n",
              "        return;\n",
              "      }\n",
              "      const div = document.createElement('div');\n",
              "      const label = document.createElement('label');\n",
              "      label.textContent = `Downloading \"${filename}\": `;\n",
              "      div.appendChild(label);\n",
              "      const progress = document.createElement('progress');\n",
              "      progress.max = size;\n",
              "      div.appendChild(progress);\n",
              "      document.body.appendChild(div);\n",
              "\n",
              "      const buffers = [];\n",
              "      let downloaded = 0;\n",
              "\n",
              "      const channel = await google.colab.kernel.comms.open(id);\n",
              "      // Send a message to notify the kernel that we're ready.\n",
              "      channel.send({})\n",
              "\n",
              "      for await (const message of channel.messages) {\n",
              "        // Send a message to notify the kernel that we're ready.\n",
              "        channel.send({})\n",
              "        if (message.buffers) {\n",
              "          for (const buffer of message.buffers) {\n",
              "            buffers.push(buffer);\n",
              "            downloaded += buffer.byteLength;\n",
              "            progress.value = downloaded;\n",
              "          }\n",
              "        }\n",
              "      }\n",
              "      const blob = new Blob(buffers, {type: 'application/binary'});\n",
              "      const a = document.createElement('a');\n",
              "      a.href = window.URL.createObjectURL(blob);\n",
              "      a.download = filename;\n",
              "      div.appendChild(a);\n",
              "      a.click();\n",
              "      div.remove();\n",
              "    }\n",
              "  "
            ]
          },
          "metadata": {}
        },
        {
          "output_type": "display_data",
          "data": {
            "text/plain": [
              "<IPython.core.display.Javascript object>"
            ],
            "application/javascript": [
              "download(\"download_dd8ef5d2-dc2d-4ddb-a79d-77c465fac45f\", \"b1b2.png\", 30519)"
            ]
          },
          "metadata": {}
        },
        {
          "output_type": "display_data",
          "data": {
            "text/plain": [
              "<Figure size 432x288 with 1 Axes>"
            ],
            "image/png": "[encoded data removed]"
          },
          "metadata": {
            "needs_background": "light"
          }
        }
      ]
    },
    {
      "cell_type": "code",
      "source": [
        "def flip_Metropolis(A, beta, i, j):\n",
        "  L = len(A)\n",
        "  sigma = A[(i+1)%L,j]+A[(i-1)%L,j]+A[i,(j+1)%L]+A[i,(j-1)%L] # sum up neighbours\n",
        "  p = np.min([1, np.exp(-2*beta*A[i,j]*sigma)])\n",
        "  if np.random.random() < p: # with prob p, accept the flip\n",
        "    A[i,j] *= -1 # flip the entry\n",
        "  return A\n",
        "\n",
        "def Metropolis(L, beta, max_itr=10**5): # Metropolis-Hasting for Ising model\n",
        "  # max_itr = 10**5\n",
        "  his = np.zeros(max_itr)\n",
        "  A = Ising(L) # initialize model\n",
        "  pos = np.random.randint(0, L, (2, max_itr)) # random flip position\n",
        "  for itr in range(max_itr):\n",
        "    A = flip_Metropolis(A, beta, pos[0,itr], pos[1,itr])\n",
        "    his[itr] = np.sum(A)\n",
        "  return his"
      ],
      "metadata": {
        "id": "730i5UwTNPGD"
      },
      "execution_count": 10,
      "outputs": []
    },
    {
      "cell_type": "code",
      "source": [
        "beta_list = [0.1]\n",
        "lattice_list = [5, 10, 15, 20, 25, 30]\n",
        "max_itr = 10**6\n",
        "his_matrix5 = np.zeros((len(beta_list), len(lattice_list)))\n",
        "for i in range(len(beta_list)):\n",
        "  for j in range(len(lattice_list)):\n",
        "    history = Metropolis(lattice_list[j], beta_list[i], max_itr)\n",
        "    his_matrix5[i,j] = emcee.autocorr.integrated_time(history, quiet=True)\n",
        "l5 = his_matrix5[0]\n",
        "print(l5)"
      ],
      "metadata": {
        "colab": {
          "base_uri": "https://localhost:8080/"
        },
        "id": "jxcUbXooTTHX",
        "outputId": "f0a971c3-b9de-4db2-85e3-843dab74d2b0"
      },
      "execution_count": null,
      "outputs": [
        {
          "output_type": "stream",
          "name": "stdout",
          "text": [
            "[  45.50647601  183.18352253  363.87527562  661.80821456 1291.18721674\n",
            " 1906.35153163]\n"
          ]
        }
      ]
    },
    {
      "cell_type": "code",
      "source": [
        "beta_list = [0.1, 0.2, 0.3, 0.4, 0.5, 0.6, 0.7, 0.8]\n",
        "lattice_list = [10]\n",
        "max_itr = 10**6\n",
        "his_matrix6 = np.zeros((len(beta_list), len(lattice_list)))\n",
        "for i in range(len(beta_list)):\n",
        "  for j in range(len(lattice_list)):\n",
        "    history = Metropolis(lattice_list[j], beta_list[i], max_itr)\n",
        "    his_matrix6[i,j] = emcee.autocorr.integrated_time(history, quiet=True)\n",
        "l6 = his_matrix6[:,0]\n",
        "print(l6)"
      ],
      "metadata": {
        "colab": {
          "base_uri": "https://localhost:8080/"
        },
        "id": "TsMzoQWLSMdQ",
        "outputId": "3b7ee7f8-f946-4a3d-8913-13fc9746fdbb"
      },
      "execution_count": null,
      "outputs": [
        {
          "output_type": "stream",
          "name": "stdout",
          "text": [
            "[ 178.17069858  422.94544161 1147.58210331 9130.37144853 1173.75928605\n",
            " 1020.37790539  509.87164057  308.18761642]\n"
          ]
        }
      ]
    },
    {
      "cell_type": "code",
      "source": [
        "plt.plot(beta_list, l6, label = \"Metropolis Hasting\")\n",
        "plt.title('Autocorrelation Time v.s. beta')\n",
        "plt.xlabel('beta')\n",
        "plt.ylabel('autocorrelation time')\n",
        "plt.grid(visible=True, which='both', axis='both')\n",
        "plt.legend()\n",
        "plt.savefig(\"Avsb3.png\")\n",
        "files.download(\"Avsb3.png\")\n",
        "plt.show()"
      ],
      "metadata": {
        "colab": {
          "base_uri": "https://localhost:8080/",
          "height": 295
        },
        "id": "L6DHptmivyw_",
        "outputId": "6ec98522-f528-4f93-f96d-916a64824fc6"
      },
      "execution_count": 13,
      "outputs": [
        {
          "output_type": "display_data",
          "data": {
            "text/plain": [
              "<IPython.core.display.Javascript object>"
            ],
            "application/javascript": [
              "\n",
              "    async function download(id, filename, size) {\n",
              "      if (!google.colab.kernel.accessAllowed) {\n",
              "        return;\n",
              "      }\n",
              "      const div = document.createElement('div');\n",
              "      const label = document.createElement('label');\n",
              "      label.textContent = `Downloading \"${filename}\": `;\n",
              "      div.appendChild(label);\n",
              "      const progress = document.createElement('progress');\n",
              "      progress.max = size;\n",
              "      div.appendChild(progress);\n",
              "      document.body.appendChild(div);\n",
              "\n",
              "      const buffers = [];\n",
              "      let downloaded = 0;\n",
              "\n",
              "      const channel = await google.colab.kernel.comms.open(id);\n",
              "      // Send a message to notify the kernel that we're ready.\n",
              "      channel.send({})\n",
              "\n",
              "      for await (const message of channel.messages) {\n",
              "        // Send a message to notify the kernel that we're ready.\n",
              "        channel.send({})\n",
              "        if (message.buffers) {\n",
              "          for (const buffer of message.buffers) {\n",
              "            buffers.push(buffer);\n",
              "            downloaded += buffer.byteLength;\n",
              "            progress.value = downloaded;\n",
              "          }\n",
              "        }\n",
              "      }\n",
              "      const blob = new Blob(buffers, {type: 'application/binary'});\n",
              "      const a = document.createElement('a');\n",
              "      a.href = window.URL.createObjectURL(blob);\n",
              "      a.download = filename;\n",
              "      div.appendChild(a);\n",
              "      a.click();\n",
              "      div.remove();\n",
              "    }\n",
              "  "
            ]
          },
          "metadata": {}
        },
        {
          "output_type": "display_data",
          "data": {
            "text/plain": [
              "<IPython.core.display.Javascript object>"
            ],
            "application/javascript": [
              "download(\"download_c3c5e5ab-51f7-4af7-b5cc-9c1347d643d7\", \"Avsb3.png\", 18626)"
            ]
          },
          "metadata": {}
        },
        {
          "output_type": "display_data",
          "data": {
            "text/plain": [
              "<Figure size 432x288 with 1 Axes>"
            ],
            "image/png": "[encoded data removed]"
          },
          "metadata": {
            "needs_background": "light"
          }
        }
      ]
    },
    {
      "cell_type": "code",
      "source": [
        "plt.plot(beta_list, l6, label = \"Metropolis Hasting\")\n",
        "plt.plot(beta_list, l3, label = \"Random Gibbs\")\n",
        "plt.plot(beta_list, l4, label = \"Deterministic Gibbs\")\n",
        "plt.title('Autocorrelation Time v.s. beta')\n",
        "plt.xscale('log')\n",
        "plt.yscale('log')\n",
        "plt.xlabel('beta')\n",
        "plt.ylabel('autocorrelation time')\n",
        "plt.grid(visible=True, which='both', axis='both')\n",
        "plt.legend()\n",
        "plt.savefig(\"Avsb4.png\")\n",
        "files.download(\"Avsb4.png\")\n",
        "plt.show()"
      ],
      "metadata": {
        "colab": {
          "base_uri": "https://localhost:8080/",
          "height": 299
        },
        "id": "OuOgW14JwVZX",
        "outputId": "7e1c7e35-8f8f-4a74-8ed8-8a9ffd38c417"
      },
      "execution_count": 14,
      "outputs": [
        {
          "output_type": "display_data",
          "data": {
            "text/plain": [
              "<IPython.core.display.Javascript object>"
            ],
            "application/javascript": [
              "\n",
              "    async function download(id, filename, size) {\n",
              "      if (!google.colab.kernel.accessAllowed) {\n",
              "        return;\n",
              "      }\n",
              "      const div = document.createElement('div');\n",
              "      const label = document.createElement('label');\n",
              "      label.textContent = `Downloading \"${filename}\": `;\n",
              "      div.appendChild(label);\n",
              "      const progress = document.createElement('progress');\n",
              "      progress.max = size;\n",
              "      div.appendChild(progress);\n",
              "      document.body.appendChild(div);\n",
              "\n",
              "      const buffers = [];\n",
              "      let downloaded = 0;\n",
              "\n",
              "      const channel = await google.colab.kernel.comms.open(id);\n",
              "      // Send a message to notify the kernel that we're ready.\n",
              "      channel.send({})\n",
              "\n",
              "      for await (const message of channel.messages) {\n",
              "        // Send a message to notify the kernel that we're ready.\n",
              "        channel.send({})\n",
              "        if (message.buffers) {\n",
              "          for (const buffer of message.buffers) {\n",
              "            buffers.push(buffer);\n",
              "            downloaded += buffer.byteLength;\n",
              "            progress.value = downloaded;\n",
              "          }\n",
              "        }\n",
              "      }\n",
              "      const blob = new Blob(buffers, {type: 'application/binary'});\n",
              "      const a = document.createElement('a');\n",
              "      a.href = window.URL.createObjectURL(blob);\n",
              "      a.download = filename;\n",
              "      div.appendChild(a);\n",
              "      a.click();\n",
              "      div.remove();\n",
              "    }\n",
              "  "
            ]
          },
          "metadata": {}
        },
        {
          "output_type": "display_data",
          "data": {
            "text/plain": [
              "<IPython.core.display.Javascript object>"
            ],
            "application/javascript": [
              "download(\"download_1466dd93-08e6-4c63-bc8d-75580c69cb4a\", \"Avsb4.png\", 30167)"
            ]
          },
          "metadata": {}
        },
        {
          "output_type": "display_data",
          "data": {
            "text/plain": [
              "<Figure size 432x288 with 1 Axes>"
            ],
            "image/png": "[encoded data removed]"
          },
          "metadata": {
            "needs_background": "light"
          }
        }
      ]
    },
    {
      "cell_type": "code",
      "source": [
        "plt.plot(np.array(lattice_list), l5, label = \"Metropolis Hasting\")\n",
        "plt.title('Autocorrelation Time v.s. L')\n",
        "plt.xlabel('L')\n",
        "plt.ylabel('autocorrelation time')\n",
        "plt.grid(visible=True, which='both', axis='both')\n",
        "plt.legend()\n",
        "plt.savefig(\"AvsL3.png\")\n",
        "files.download(\"AvsL3.png\")\n",
        "plt.show()"
      ],
      "metadata": {
        "colab": {
          "base_uri": "https://localhost:8080/",
          "height": 295
        },
        "id": "9PuxVMP_-1qY",
        "outputId": "2af5ce4c-82f5-4533-cbe0-e4868bd9fb0f"
      },
      "execution_count": 23,
      "outputs": [
        {
          "output_type": "display_data",
          "data": {
            "text/plain": [
              "<IPython.core.display.Javascript object>"
            ],
            "application/javascript": [
              "\n",
              "    async function download(id, filename, size) {\n",
              "      if (!google.colab.kernel.accessAllowed) {\n",
              "        return;\n",
              "      }\n",
              "      const div = document.createElement('div');\n",
              "      const label = document.createElement('label');\n",
              "      label.textContent = `Downloading \"${filename}\": `;\n",
              "      div.appendChild(label);\n",
              "      const progress = document.createElement('progress');\n",
              "      progress.max = size;\n",
              "      div.appendChild(progress);\n",
              "      document.body.appendChild(div);\n",
              "\n",
              "      const buffers = [];\n",
              "      let downloaded = 0;\n",
              "\n",
              "      const channel = await google.colab.kernel.comms.open(id);\n",
              "      // Send a message to notify the kernel that we're ready.\n",
              "      channel.send({})\n",
              "\n",
              "      for await (const message of channel.messages) {\n",
              "        // Send a message to notify the kernel that we're ready.\n",
              "        channel.send({})\n",
              "        if (message.buffers) {\n",
              "          for (const buffer of message.buffers) {\n",
              "            buffers.push(buffer);\n",
              "            downloaded += buffer.byteLength;\n",
              "            progress.value = downloaded;\n",
              "          }\n",
              "        }\n",
              "      }\n",
              "      const blob = new Blob(buffers, {type: 'application/binary'});\n",
              "      const a = document.createElement('a');\n",
              "      a.href = window.URL.createObjectURL(blob);\n",
              "      a.download = filename;\n",
              "      div.appendChild(a);\n",
              "      a.click();\n",
              "      div.remove();\n",
              "    }\n",
              "  "
            ]
          },
          "metadata": {}
        },
        {
          "output_type": "display_data",
          "data": {
            "text/plain": [
              "<IPython.core.display.Javascript object>"
            ],
            "application/javascript": [
              "download(\"download_014eb67a-e05e-41cf-90df-06e41b30c22a\", \"AvsL3.png\", 17007)"
            ]
          },
          "metadata": {}
        },
        {
          "output_type": "display_data",
          "data": {
            "text/plain": [
              "<Figure size 432x288 with 1 Axes>"
            ],
            "image/png": "[encoded data removed]"
          },
          "metadata": {
            "needs_background": "light"
          }
        }
      ]
    },
    {
      "cell_type": "code",
      "source": [
        "plt.plot(np.array(lattice_list), l5, label = \"Metropolis Hasting\")\n",
        "plt.plot(np.array(lattice_list), l1, label = \"Random Gibbs\")\n",
        "plt.plot(np.array(lattice_list), l2, label = \"Deterministic Gibbs\")\n",
        "plt.title('Autocorrelation Time v.s. L')\n",
        "plt.xscale('log')\n",
        "plt.yscale('log')\n",
        "plt.xlabel('log L')\n",
        "plt.ylabel('log autocorrelation time')\n",
        "plt.grid(visible=True, which='both', axis='both')\n",
        "plt.legend()\n",
        "plt.savefig(\"AvsL4.png\")\n",
        "files.download(\"AvsL4.png\")\n",
        "plt.show()"
      ],
      "metadata": {
        "colab": {
          "base_uri": "https://localhost:8080/",
          "height": 299
        },
        "id": "Ro0TDe41AIrs",
        "outputId": "22843298-152b-4241-8d89-b83bbc3abf17"
      },
      "execution_count": 24,
      "outputs": [
        {
          "output_type": "display_data",
          "data": {
            "text/plain": [
              "<IPython.core.display.Javascript object>"
            ],
            "application/javascript": [
              "\n",
              "    async function download(id, filename, size) {\n",
              "      if (!google.colab.kernel.accessAllowed) {\n",
              "        return;\n",
              "      }\n",
              "      const div = document.createElement('div');\n",
              "      const label = document.createElement('label');\n",
              "      label.textContent = `Downloading \"${filename}\": `;\n",
              "      div.appendChild(label);\n",
              "      const progress = document.createElement('progress');\n",
              "      progress.max = size;\n",
              "      div.appendChild(progress);\n",
              "      document.body.appendChild(div);\n",
              "\n",
              "      const buffers = [];\n",
              "      let downloaded = 0;\n",
              "\n",
              "      const channel = await google.colab.kernel.comms.open(id);\n",
              "      // Send a message to notify the kernel that we're ready.\n",
              "      channel.send({})\n",
              "\n",
              "      for await (const message of channel.messages) {\n",
              "        // Send a message to notify the kernel that we're ready.\n",
              "        channel.send({})\n",
              "        if (message.buffers) {\n",
              "          for (const buffer of message.buffers) {\n",
              "            buffers.push(buffer);\n",
              "            downloaded += buffer.byteLength;\n",
              "            progress.value = downloaded;\n",
              "          }\n",
              "        }\n",
              "      }\n",
              "      const blob = new Blob(buffers, {type: 'application/binary'});\n",
              "      const a = document.createElement('a');\n",
              "      a.href = window.URL.createObjectURL(blob);\n",
              "      a.download = filename;\n",
              "      div.appendChild(a);\n",
              "      a.click();\n",
              "      div.remove();\n",
              "    }\n",
              "  "
            ]
          },
          "metadata": {}
        },
        {
          "output_type": "display_data",
          "data": {
            "text/plain": [
              "<IPython.core.display.Javascript object>"
            ],
            "application/javascript": [
              "download(\"download_c3ba02ef-39d9-4471-b046-4c3c96097331\", \"AvsL4.png\", 24183)"
            ]
          },
          "metadata": {}
        },
        {
          "output_type": "display_data",
          "data": {
            "text/plain": [
              "<Figure size 432x288 with 1 Axes>"
            ],
            "image/png": "[encoded data removed]"
          },
          "metadata": {
            "needs_background": "light"
          }
        }
      ]
    },
    {
      "cell_type": "code",
      "source": [
        "def density(A, beta): # compute density at A, up to normalizing constant\n",
        "  den = 0\n",
        "  L = len(A)\n",
        "  for i in range(L):\n",
        "    for j in range(L):\n",
        "      den += (A[(i+1)%L,j]+A[(i-1)%L,j]+A[i,(j+1)%L]+A[i,(j-1)%L])*A[i,j]\n",
        "  return np.exp(den*beta/2)\n",
        "\n",
        "def Jarzynski(L, beta, N, M, resample = False):\n",
        "  ensemble = [Ising(L) for i in range(M)] # generate samples from beta=0\n",
        "  W = np.ones(M)/M\n",
        "  for k in range(N): # loop over interpolation steps\n",
        "    for i in range(M): # loop over the sample\n",
        "      for j in range(L*L): # to accelerate muxing, update L*L times\n",
        "        ensemble[i] = flip_Metropolis(ensemble[i], beta*k/N, np.random.randint(0, L), np.random.randint(0, L))\n",
        "      W[i] *= density(ensemble[i], beta/N)\n",
        "    W /= np.sum(W) # normalizing weight\n",
        "    if resample == True:\n",
        "      index = systematic(W)\n",
        "      ensemble_new = [ensemble[i] for i in index]\n",
        "      ensemble = ensemble_new\n",
        "      W = np.ones(M)/M\n",
        "  magne = [np.sum(A) for A in ensemble]\n",
        "  return np.dot(W, magne) # compute the weighted average of magnetization using ensemble"
      ],
      "metadata": {
        "id": "ci6EFsYQD8Z_"
      },
      "execution_count": 5,
      "outputs": []
    },
    {
      "cell_type": "code",
      "source": [
        "# evaluate variance without resampling\n",
        "L = 5\n",
        "beta = 0.2\n",
        "N_list = [2, 3, 5, 7, 10, 15] # list of N\n",
        "M = 100 # number of samples in ensemble\n",
        "sample = 500 # number of runs to calculate the variance\n",
        "\n",
        "variance_list = []\n",
        "for N in tqdm.tqdm(N_list):\n",
        "  data = [Jarzynski(L, beta, N, M, resample = False) for j in range(sample)]\n",
        "  variance_list.append(np.var(data))"
      ],
      "metadata": {
        "colab": {
          "base_uri": "https://localhost:8080/"
        },
        "id": "ouDQDhHaSUq7",
        "outputId": "eb2d4a8d-ee8c-473a-ba32-4b40b82b3d1d"
      },
      "execution_count": 13,
      "outputs": [
        {
          "output_type": "stream",
          "name": "stderr",
          "text": [
            "100%|██████████| 6/6 [24:33<00:00, 245.63s/it]\n"
          ]
        }
      ]
    },
    {
      "cell_type": "code",
      "source": [
        "plt.plot(N_list, variance_list, label = \"Jarzynski's method without resampling\")\n",
        "plt.title('Varience v.s. N')\n",
        "plt.xlabel('N')\n",
        "plt.ylabel('Varience')\n",
        "plt.grid(visible=True, which='both', axis='both')\n",
        "plt.legend()\n",
        "plt.savefig(\"VvsN1.png\")\n",
        "files.download(\"VvsN1.png\")\n",
        "plt.show()"
      ],
      "metadata": {
        "colab": {
          "base_uri": "https://localhost:8080/",
          "height": 295
        },
        "id": "lKY_AyYAcGxj",
        "outputId": "ac93b6e6-db5d-4e90-83af-3c03063f6d65"
      },
      "execution_count": 14,
      "outputs": [
        {
          "output_type": "display_data",
          "data": {
            "text/plain": [
              "<IPython.core.display.Javascript object>"
            ],
            "application/javascript": [
              "\n",
              "    async function download(id, filename, size) {\n",
              "      if (!google.colab.kernel.accessAllowed) {\n",
              "        return;\n",
              "      }\n",
              "      const div = document.createElement('div');\n",
              "      const label = document.createElement('label');\n",
              "      label.textContent = `Downloading \"${filename}\": `;\n",
              "      div.appendChild(label);\n",
              "      const progress = document.createElement('progress');\n",
              "      progress.max = size;\n",
              "      div.appendChild(progress);\n",
              "      document.body.appendChild(div);\n",
              "\n",
              "      const buffers = [];\n",
              "      let downloaded = 0;\n",
              "\n",
              "      const channel = await google.colab.kernel.comms.open(id);\n",
              "      // Send a message to notify the kernel that we're ready.\n",
              "      channel.send({})\n",
              "\n",
              "      for await (const message of channel.messages) {\n",
              "        // Send a message to notify the kernel that we're ready.\n",
              "        channel.send({})\n",
              "        if (message.buffers) {\n",
              "          for (const buffer of message.buffers) {\n",
              "            buffers.push(buffer);\n",
              "            downloaded += buffer.byteLength;\n",
              "            progress.value = downloaded;\n",
              "          }\n",
              "        }\n",
              "      }\n",
              "      const blob = new Blob(buffers, {type: 'application/binary'});\n",
              "      const a = document.createElement('a');\n",
              "      a.href = window.URL.createObjectURL(blob);\n",
              "      a.download = filename;\n",
              "      div.appendChild(a);\n",
              "      a.click();\n",
              "      div.remove();\n",
              "    }\n",
              "  "
            ]
          },
          "metadata": {}
        },
        {
          "output_type": "display_data",
          "data": {
            "text/plain": [
              "<IPython.core.display.Javascript object>"
            ],
            "application/javascript": [
              "download(\"download_588e16ad-68e2-4258-b467-5da34c4d921a\", \"VvsN1.png\", 15723)"
            ]
          },
          "metadata": {}
        },
        {
          "output_type": "display_data",
          "data": {
            "text/plain": [
              "<Figure size 432x288 with 1 Axes>"
            ],
            "image/png": "[encoded data removed]"
          },
          "metadata": {
            "needs_background": "light"
          }
        }
      ]
    },
    {
      "cell_type": "code",
      "source": [
        "def systematic(W): # systematic resampling (could also use other resampling methods)\n",
        "    N = len(W)\n",
        "    unif = (np.random.random() + np.arange(N)) / N\n",
        "    indexes = np.zeros(N, 'i')\n",
        "    cumulative_W = np.cumsum(W)\n",
        "    i, j = 0, 0\n",
        "    while i < N:\n",
        "        if unif[i] < cumulative_W[j]:\n",
        "            indexes[i] = j\n",
        "            i += 1\n",
        "        else:\n",
        "            j += 1\n",
        "    return indexes"
      ],
      "metadata": {
        "id": "SB-dPpn3nxiL"
      },
      "execution_count": 4,
      "outputs": []
    },
    {
      "cell_type": "code",
      "source": [
        "# evaluate variance without resampling\n",
        "L = 5\n",
        "beta = 0.2\n",
        "N_list = [2, 3, 5, 7, 10, 15] # list of N\n",
        "M = 100 # number of samples in ensemble\n",
        "sample = 500 # number of runs to calculate the variance\n",
        "\n",
        "variance_list2 = []\n",
        "for N in tqdm.tqdm(N_list):\n",
        "  data2 = [Jarzynski(L, beta, N, M, resample = True) for j in range(sample)]\n",
        "  variance_list2.append(np.var(data2))"
      ],
      "metadata": {
        "colab": {
          "base_uri": "https://localhost:8080/"
        },
        "id": "pU515hsMn53z",
        "outputId": "5cbb1992-a57a-41f2-cb5c-5b6f04d2c9b3"
      },
      "execution_count": 13,
      "outputs": [
        {
          "output_type": "stream",
          "name": "stderr",
          "text": [
            "100%|██████████| 6/6 [23:42<00:00, 237.04s/it]\n"
          ]
        }
      ]
    },
    {
      "cell_type": "code",
      "source": [
        "plt.plot(N_list, variance_list2, label = \"Jarzynski's method with resampling\")\n",
        "plt.title('Varience v.s. N')\n",
        "plt.xlabel('N')\n",
        "plt.ylabel('Varience')\n",
        "plt.grid(visible=True, which='both', axis='both')\n",
        "plt.legend()\n",
        "plt.savefig(\"VvsN2.png\")\n",
        "files.download(\"VvsN2.png\")\n",
        "plt.show()"
      ],
      "metadata": {
        "colab": {
          "base_uri": "https://localhost:8080/",
          "height": 295
        },
        "id": "f_R25K3Ho7WN",
        "outputId": "2b1539c8-ce56-4a1d-e519-07e6fe910dc6"
      },
      "execution_count": 14,
      "outputs": [
        {
          "output_type": "display_data",
          "data": {
            "text/plain": [
              "<IPython.core.display.Javascript object>"
            ],
            "application/javascript": [
              "\n",
              "    async function download(id, filename, size) {\n",
              "      if (!google.colab.kernel.accessAllowed) {\n",
              "        return;\n",
              "      }\n",
              "      const div = document.createElement('div');\n",
              "      const label = document.createElement('label');\n",
              "      label.textContent = `Downloading \"${filename}\": `;\n",
              "      div.appendChild(label);\n",
              "      const progress = document.createElement('progress');\n",
              "      progress.max = size;\n",
              "      div.appendChild(progress);\n",
              "      document.body.appendChild(div);\n",
              "\n",
              "      const buffers = [];\n",
              "      let downloaded = 0;\n",
              "\n",
              "      const channel = await google.colab.kernel.comms.open(id);\n",
              "      // Send a message to notify the kernel that we're ready.\n",
              "      channel.send({})\n",
              "\n",
              "      for await (const message of channel.messages) {\n",
              "        // Send a message to notify the kernel that we're ready.\n",
              "        channel.send({})\n",
              "        if (message.buffers) {\n",
              "          for (const buffer of message.buffers) {\n",
              "            buffers.push(buffer);\n",
              "            downloaded += buffer.byteLength;\n",
              "            progress.value = downloaded;\n",
              "          }\n",
              "        }\n",
              "      }\n",
              "      const blob = new Blob(buffers, {type: 'application/binary'});\n",
              "      const a = document.createElement('a');\n",
              "      a.href = window.URL.createObjectURL(blob);\n",
              "      a.download = filename;\n",
              "      div.appendChild(a);\n",
              "      a.click();\n",
              "      div.remove();\n",
              "    }\n",
              "  "
            ]
          },
          "metadata": {}
        },
        {
          "output_type": "display_data",
          "data": {
            "text/plain": [
              "<IPython.core.display.Javascript object>"
            ],
            "application/javascript": [
              "download(\"download_9073750e-3784-48bd-9d45-c4f6c3d6ae58\", \"VvsN2.png\", 15573)"
            ]
          },
          "metadata": {}
        },
        {
          "output_type": "display_data",
          "data": {
            "text/plain": [
              "<Figure size 432x288 with 1 Axes>"
            ],
            "image/png": "[encoded data removed]"
          },
          "metadata": {
            "needs_background": "light"
          }
        }
      ]
    },
    {
      "cell_type": "code",
      "source": [
        "def Jarzynski_Gibbs(L, beta, N, M, resample = False):\n",
        "  ensemble = [Ising(L) for i in range(M)] # generate samples from beta=0\n",
        "  W = np.ones(M)/M\n",
        "  for k in range(N): # loop over interpolation steps\n",
        "    for i in range(M): # loop over the sample\n",
        "      for j in range(L*L): # to accelerate muxing, update L*L times\n",
        "        ensemble[i] = flip(ensemble[i], beta*k/N, np.random.randint(0, L), np.random.randint(0, L))\n",
        "      W[i] *= density(ensemble[i], beta/N)\n",
        "    W /= np.sum(W) # normalizing weight\n",
        "    if resample == True:\n",
        "      index = systematic(W)\n",
        "      ensemble_new = [ensemble[i] for i in index]\n",
        "      ensemble = ensemble_new\n",
        "      W = np.ones(M)/M\n",
        "  magne = [np.sum(A) for A in ensemble]\n",
        "  return np.dot(W, magne) # compute the weighted average of magnetization using ensemble"
      ],
      "metadata": {
        "id": "cMm6BsGHkkHh"
      },
      "execution_count": 6,
      "outputs": []
    },
    {
      "cell_type": "code",
      "source": [
        "# evaluate variance without resampling\n",
        "L = 5\n",
        "beta = 0.2\n",
        "N_list = [2, 3, 5, 7, 10, 15] # list of N\n",
        "M = 100 # number of samples in ensemble\n",
        "sample = 500 # number of runs to calculate the variance\n",
        "\n",
        "variance_list3 = []\n",
        "for N in tqdm.tqdm(N_list):\n",
        "  data3 = [Jarzynski_Gibbs(L, beta, N, M, resample = False) for j in range(sample)]\n",
        "  variance_list3.append(np.var(data3))"
      ],
      "metadata": {
        "colab": {
          "base_uri": "https://localhost:8080/"
        },
        "id": "lSfX6xETjrOJ",
        "outputId": "68997b7d-e910-4094-fde6-21032e2bcac0"
      },
      "execution_count": 7,
      "outputs": [
        {
          "output_type": "stream",
          "name": "stderr",
          "text": [
            "100%|██████████| 6/6 [21:44<00:00, 217.49s/it]\n"
          ]
        }
      ]
    },
    {
      "cell_type": "code",
      "source": [
        "plt.plot(N_list, variance_list3, label = \"Jarzynski's method without resampling\")\n",
        "plt.title('Varience v.s. N')\n",
        "plt.xlabel('N')\n",
        "plt.ylabel('Varience')\n",
        "plt.grid(visible=True, which='both', axis='both')\n",
        "plt.legend()\n",
        "plt.savefig(\"VvsN3.png\")\n",
        "files.download(\"VvsN3.png\")\n",
        "plt.show()"
      ],
      "metadata": {
        "colab": {
          "base_uri": "https://localhost:8080/",
          "height": 295
        },
        "id": "ek_sZH1jkx9s",
        "outputId": "39e6ebd6-1fcb-42dd-d111-644951663ac7"
      },
      "execution_count": 10,
      "outputs": [
        {
          "output_type": "display_data",
          "data": {
            "text/plain": [
              "<IPython.core.display.Javascript object>"
            ],
            "application/javascript": [
              "\n",
              "    async function download(id, filename, size) {\n",
              "      if (!google.colab.kernel.accessAllowed) {\n",
              "        return;\n",
              "      }\n",
              "      const div = document.createElement('div');\n",
              "      const label = document.createElement('label');\n",
              "      label.textContent = `Downloading \"${filename}\": `;\n",
              "      div.appendChild(label);\n",
              "      const progress = document.createElement('progress');\n",
              "      progress.max = size;\n",
              "      div.appendChild(progress);\n",
              "      document.body.appendChild(div);\n",
              "\n",
              "      const buffers = [];\n",
              "      let downloaded = 0;\n",
              "\n",
              "      const channel = await google.colab.kernel.comms.open(id);\n",
              "      // Send a message to notify the kernel that we're ready.\n",
              "      channel.send({})\n",
              "\n",
              "      for await (const message of channel.messages) {\n",
              "        // Send a message to notify the kernel that we're ready.\n",
              "        channel.send({})\n",
              "        if (message.buffers) {\n",
              "          for (const buffer of message.buffers) {\n",
              "            buffers.push(buffer);\n",
              "            downloaded += buffer.byteLength;\n",
              "            progress.value = downloaded;\n",
              "          }\n",
              "        }\n",
              "      }\n",
              "      const blob = new Blob(buffers, {type: 'application/binary'});\n",
              "      const a = document.createElement('a');\n",
              "      a.href = window.URL.createObjectURL(blob);\n",
              "      a.download = filename;\n",
              "      div.appendChild(a);\n",
              "      a.click();\n",
              "      div.remove();\n",
              "    }\n",
              "  "
            ]
          },
          "metadata": {}
        },
        {
          "output_type": "display_data",
          "data": {
            "text/plain": [
              "<IPython.core.display.Javascript object>"
            ],
            "application/javascript": [
              "download(\"download_15f5bfce-4b05-4457-8d1b-6a750028747c\", \"VvsN3.png\", 15659)"
            ]
          },
          "metadata": {}
        },
        {
          "output_type": "display_data",
          "data": {
            "text/plain": [
              "<Figure size 432x288 with 1 Axes>"
            ],
            "image/png": "[encoded data removed]"
          },
          "metadata": {
            "needs_background": "light"
          }
        }
      ]
    },
    {
      "cell_type": "code",
      "source": [
        "# evaluate variance without resampling\n",
        "L = 5\n",
        "beta = 0.2\n",
        "N_list = [2, 3, 5, 7, 10, 15] # list of N\n",
        "M = 100 # number of samples in ensemble\n",
        "sample = 500 # number of runs to calculate the variance\n",
        "\n",
        "variance_list4 = []\n",
        "for N in tqdm.tqdm(N_list):\n",
        "  data4 = [Jarzynski_Gibbs(L, beta, N, M, resample = True) for j in range(sample)]\n",
        "  variance_list4.append(np.var(data4))"
      ],
      "metadata": {
        "colab": {
          "base_uri": "https://localhost:8080/"
        },
        "id": "WhdMV-fQqq39",
        "outputId": "90231e52-1e81-483d-d63d-f5fbfcbba664"
      },
      "execution_count": 11,
      "outputs": [
        {
          "output_type": "stream",
          "name": "stderr",
          "text": [
            "100%|██████████| 6/6 [21:42<00:00, 217.15s/it]\n"
          ]
        }
      ]
    },
    {
      "cell_type": "code",
      "source": [
        "plt.plot(N_list, variance_list4, label = \"Jarzynski's method with resampling\")\n",
        "plt.title('Varience v.s. N')\n",
        "plt.xlabel('N')\n",
        "plt.ylabel('Varience')\n",
        "plt.grid(visible=True, which='both', axis='both')\n",
        "plt.legend()\n",
        "plt.savefig(\"VvsN4.png\")\n",
        "files.download(\"VvsN4.png\")\n",
        "plt.show()"
      ],
      "metadata": {
        "colab": {
          "base_uri": "https://localhost:8080/",
          "height": 295
        },
        "id": "7gpqVq0qqlFJ",
        "outputId": "16e89cbc-cae4-454c-bf8f-e970a70336ec"
      },
      "execution_count": 12,
      "outputs": [
        {
          "output_type": "display_data",
          "data": {
            "text/plain": [
              "<IPython.core.display.Javascript object>"
            ],
            "application/javascript": [
              "\n",
              "    async function download(id, filename, size) {\n",
              "      if (!google.colab.kernel.accessAllowed) {\n",
              "        return;\n",
              "      }\n",
              "      const div = document.createElement('div');\n",
              "      const label = document.createElement('label');\n",
              "      label.textContent = `Downloading \"${filename}\": `;\n",
              "      div.appendChild(label);\n",
              "      const progress = document.createElement('progress');\n",
              "      progress.max = size;\n",
              "      div.appendChild(progress);\n",
              "      document.body.appendChild(div);\n",
              "\n",
              "      const buffers = [];\n",
              "      let downloaded = 0;\n",
              "\n",
              "      const channel = await google.colab.kernel.comms.open(id);\n",
              "      // Send a message to notify the kernel that we're ready.\n",
              "      channel.send({})\n",
              "\n",
              "      for await (const message of channel.messages) {\n",
              "        // Send a message to notify the kernel that we're ready.\n",
              "        channel.send({})\n",
              "        if (message.buffers) {\n",
              "          for (const buffer of message.buffers) {\n",
              "            buffers.push(buffer);\n",
              "            downloaded += buffer.byteLength;\n",
              "            progress.value = downloaded;\n",
              "          }\n",
              "        }\n",
              "      }\n",
              "      const blob = new Blob(buffers, {type: 'application/binary'});\n",
              "      const a = document.createElement('a');\n",
              "      a.href = window.URL.createObjectURL(blob);\n",
              "      a.download = filename;\n",
              "      div.appendChild(a);\n",
              "      a.click();\n",
              "      div.remove();\n",
              "    }\n",
              "  "
            ]
          },
          "metadata": {}
        },
        {
          "output_type": "display_data",
          "data": {
            "text/plain": [
              "<IPython.core.display.Javascript object>"
            ],
            "application/javascript": [
              "download(\"download_13078ec5-b1a4-4a5b-81d9-555d5685f44e\", \"VvsN4.png\", 14704)"
            ]
          },
          "metadata": {}
        },
        {
          "output_type": "display_data",
          "data": {
            "text/plain": [
              "<Figure size 432x288 with 1 Axes>"
            ],
            "image/png": "[encoded data removed]"
          },
          "metadata": {
            "needs_background": "light"
          }
        }
      ]
    }
  ]
}