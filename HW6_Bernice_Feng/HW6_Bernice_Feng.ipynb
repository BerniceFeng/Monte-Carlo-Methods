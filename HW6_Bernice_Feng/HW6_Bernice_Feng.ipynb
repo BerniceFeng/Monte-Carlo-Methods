{
  "nbformat": 4,
  "nbformat_minor": 0,
  "metadata": {
    "colab": {
      "provenance": []
    },
    "kernelspec": {
      "name": "python3",
      "display_name": "Python 3"
    },
    "language_info": {
      "name": "python"
    }
  },
  "cells": [
    {
      "cell_type": "code",
      "execution_count": 1,
      "metadata": {
        "colab": {
          "base_uri": "https://localhost:8080/"
        },
        "id": "XsD1G3NKKCVl",
        "outputId": "e2fe2c68-f08e-4625-e626-1aaa4242f29e"
      },
      "outputs": [
        {
          "output_type": "stream",
          "name": "stdout",
          "text": [
            "Looking in indexes: https://pypi.org/simple, https://us-python.pkg.dev/colab-wheels/public/simple/\n",
            "Collecting emcee\n",
            "  Downloading emcee-3.1.3-py2.py3-none-any.whl (46 kB)\n",
            "\u001b[K     |████████████████████████████████| 46 kB 3.2 MB/s \n",
            "\u001b[?25hRequirement already satisfied: numpy in /usr/local/lib/python3.8/dist-packages (from emcee) (1.21.6)\n",
            "Installing collected packages: emcee\n",
            "Successfully installed emcee-3.1.3\n",
            "Looking in indexes: https://pypi.org/simple, https://us-python.pkg.dev/colab-wheels/public/simple/\n",
            "Collecting corner\n",
            "  Downloading corner-2.2.1-py3-none-any.whl (15 kB)\n",
            "Requirement already satisfied: matplotlib>=2.1 in /usr/local/lib/python3.8/dist-packages (from corner) (3.2.2)\n",
            "Requirement already satisfied: numpy>=1.11 in /usr/local/lib/python3.8/dist-packages (from matplotlib>=2.1->corner) (1.21.6)\n",
            "Requirement already satisfied: python-dateutil>=2.1 in /usr/local/lib/python3.8/dist-packages (from matplotlib>=2.1->corner) (2.8.2)\n",
            "Requirement already satisfied: kiwisolver>=1.0.1 in /usr/local/lib/python3.8/dist-packages (from matplotlib>=2.1->corner) (1.4.4)\n",
            "Requirement already satisfied: cycler>=0.10 in /usr/local/lib/python3.8/dist-packages (from matplotlib>=2.1->corner) (0.11.0)\n",
            "Requirement already satisfied: pyparsing!=2.0.4,!=2.1.2,!=2.1.6,>=2.0.1 in /usr/local/lib/python3.8/dist-packages (from matplotlib>=2.1->corner) (3.0.9)\n",
            "Requirement already satisfied: six>=1.5 in /usr/local/lib/python3.8/dist-packages (from python-dateutil>=2.1->matplotlib>=2.1->corner) (1.15.0)\n",
            "Installing collected packages: corner\n",
            "Successfully installed corner-2.2.1\n"
          ]
        }
      ],
      "source": [
        "%pip install emcee\n",
        "%pip install corner"
      ]
    },
    {
      "cell_type": "code",
      "source": [
        "import numpy as np\n",
        "import matplotlib.pyplot as plt\n",
        "import scipy.stats as sps\n",
        "from importlib import reload\n",
        "import tqdm\n",
        "import time\n",
        "import emcee\n",
        "from google.colab import files\n",
        "from copy import deepcopy"
      ],
      "metadata": {
        "id": "_eOv0u-BKRFM"
      },
      "execution_count": 2,
      "outputs": []
    },
    {
      "cell_type": "code",
      "source": [
        "def pi_R(x): # propotional density of Rosenbrock function\n",
        "  a = (100*((x[1] - x[0]**2)**2) + (1-x[0])**2)/20\n",
        "  return np.exp(-a/20)\n",
        "\n",
        "def Hessian(x): # Hessian\n",
        "  H = np.zeros((2,2))\n",
        "  H[0,0] = 20*x[1] + 60*(x[0]**2) + 1/10 \n",
        "  H[1,0] = 20*x[0]\n",
        "  H[0,1] = 20*x[0]\n",
        "  H[1,1] = -10\n",
        "  return H\n",
        "\n",
        "def sqrt_R(x): # positive square-root of inverse Hessian\n",
        "  H = Hessian(x) # Hessian\n",
        "  S = np.linalg.inv(H) # inverse Hessian\n",
        "  det_S = np.linalg.det(S) # determinant of S\n",
        "  R = (S+np.sqrt(np.abs(det_S))*np.eye(2))/np.sqrt(np.abs(np.trace(S) + 2*np.sqrt(np.abs(det_S)))) # absolute value for S not positive-definite\n",
        "  return R\n",
        "\n",
        "def grad_V(x): # V = -log pi\n",
        "  grad = np.zeros((2))\n",
        "  grad[0] = -20*(x[1]-x[0]**2)*x[0] + (x[0]-1)/10 \n",
        "  grad[1] = 10*(x[1] - x[0]**2)\n",
        "  return grad\n",
        "\n",
        "def Sto_Newton(h, max_itr = 10**6):\n",
        "  lst = []\n",
        "  x = np.random.rand(2)\n",
        "  for st in range(max_itr):\n",
        "    R = sqrt_R(x)\n",
        "    S = R@R\n",
        "    DVx = grad_V(x)\n",
        "    y = x -h*S@DVx + np.sqrt(2*h)*R@np.random.normal(size=2)\n",
        "    DVy = grad_V(y)\n",
        "    q_yx = np.exp(-(y-x+h*S@DVx)@np.linalg.inv(S)@(y-x+h*S@DVx)/(4*h))\n",
        "    q_xy = np.exp(-(x-y+h*S@DVy)@np.linalg.inv(S)@(x-y+h*S@DVy)/(4*h))\n",
        "    p_acc = min(1, q_xy*pi_R(y)/(q_yx*pi_R(x)))\n",
        "    if np.random.random() < p_acc: # Metropolize\n",
        "      x = y\n",
        "    lst.append(x[0])\n",
        "  return lst\n",
        "\n",
        "def OD_Langevin_M(h, max_itr = 10**6):\n",
        "  lst = []\n",
        "  x = np.random.rand(2)\n",
        "  for st in range(max_itr):\n",
        "    DVx = grad_V(x)\n",
        "    y = x -h*DVx + np.sqrt(2*h)*np.random.normal(size=2)\n",
        "    DVy = grad_V(y)\n",
        "    q_yx = np.exp(-(y-x+h*DVx)@(y-x+h*DVx)/(4*h))\n",
        "    q_xy = np.exp(-(x-y+h*DVy)@(x-y+h*DVy)/(4*h))\n",
        "    p_acc = min(1, q_xy*pi_R(y)/(q_yx*pi_R(x))) \n",
        "    if np.random.random() < p_acc: # Metropolize\n",
        "      x = y\n",
        "    lst.append(x[0])\n",
        "  return lst"
      ],
      "metadata": {
        "id": "FdNlVeDqKR0D"
      },
      "execution_count": 6,
      "outputs": []
    },
    {
      "cell_type": "code",
      "source": [
        "h = 10**(-2)\n",
        "his1 = Sto_Newton(h)\n",
        "IAT1 = emcee.autocorr.integrated_time(his1, quiet=True)\n",
        "print(IAT1)"
      ],
      "metadata": {
        "colab": {
          "base_uri": "https://localhost:8080/"
        },
        "id": "m6odrDVhKZDF",
        "outputId": "5a903614-746c-4011-d319-af84e47fc694"
      },
      "execution_count": 8,
      "outputs": [
        {
          "output_type": "stream",
          "name": "stderr",
          "text": [
            "WARNING:emcee.autocorr:The chain is shorter than 50 times the integrated autocorrelation time for 1 parameter(s). Use this estimate with caution and run a longer chain!\n",
            "N/50 = 20000;\n",
            "tau: [56088.14836733]\n"
          ]
        },
        {
          "output_type": "stream",
          "name": "stdout",
          "text": [
            "[56088.14836733]\n"
          ]
        }
      ]
    },
    {
      "cell_type": "code",
      "source": [
        "h = 10**(-2)\n",
        "his1 = Sto_Newton(h)\n",
        "IAT1 = emcee.autocorr.integrated_time(his1, quiet=True)\n",
        "print(IAT1)"
      ],
      "metadata": {
        "colab": {
          "base_uri": "https://localhost:8080/"
        },
        "id": "tU5FDwJEdHqL",
        "outputId": "e2c3617a-c2d7-4e3c-f708-943551e1bd93"
      },
      "execution_count": 17,
      "outputs": [
        {
          "output_type": "stream",
          "name": "stderr",
          "text": [
            "WARNING:emcee.autocorr:The chain is shorter than 50 times the integrated autocorrelation time for 1 parameter(s). Use this estimate with caution and run a longer chain!\n",
            "N/50 = 20000;\n",
            "tau: [95794.08099281]\n"
          ]
        },
        {
          "output_type": "stream",
          "name": "stdout",
          "text": [
            "[95794.08099281]\n"
          ]
        }
      ]
    },
    {
      "cell_type": "code",
      "source": [
        "h = 10**(-2)\n",
        "his1 = Sto_Newton(h)\n",
        "IAT1 = emcee.autocorr.integrated_time(his1, quiet=True)\n",
        "print(IAT1)"
      ],
      "metadata": {
        "colab": {
          "base_uri": "https://localhost:8080/"
        },
        "id": "khMraqlZf4BM",
        "outputId": "c2797efb-3f68-40b1-8b6e-f668b334b6e9"
      },
      "execution_count": 18,
      "outputs": [
        {
          "output_type": "stream",
          "name": "stdout",
          "text": [
            "[3364.16478186]\n"
          ]
        }
      ]
    },
    {
      "cell_type": "code",
      "source": [
        "h = 10**(-2)\n",
        "his1 = Sto_Newton(h)\n",
        "IAT1 = emcee.autocorr.integrated_time(his1, quiet=True)\n",
        "print(IAT1)"
      ],
      "metadata": {
        "colab": {
          "base_uri": "https://localhost:8080/"
        },
        "id": "Q40W4I3ihCOr",
        "outputId": "d866d7a2-47c2-4e8a-8212-7451f9f492b5"
      },
      "execution_count": 32,
      "outputs": [
        {
          "output_type": "stream",
          "name": "stdout",
          "text": [
            "[10580.25259484]\n"
          ]
        }
      ]
    },
    {
      "cell_type": "code",
      "source": [
        "h = 10**(-2)\n",
        "his1 = Sto_Newton(h)\n",
        "IAT1 = emcee.autocorr.integrated_time(his1, quiet=True)\n",
        "print(IAT1)"
      ],
      "metadata": {
        "colab": {
          "base_uri": "https://localhost:8080/"
        },
        "id": "DnnX-PYlvhCq",
        "outputId": "75b5845f-5f47-4d27-fc12-e22626e2ae2e"
      },
      "execution_count": 34,
      "outputs": [
        {
          "output_type": "stream",
          "name": "stdout",
          "text": [
            "[13966.70877991]\n"
          ]
        }
      ]
    },
    {
      "cell_type": "code",
      "source": [
        "his2 = OD_Langevin_M(h)\n",
        "IAT2 = emcee.autocorr.integrated_time(his2, quiet=True)\n",
        "print(IAT2)"
      ],
      "metadata": {
        "colab": {
          "base_uri": "https://localhost:8080/"
        },
        "id": "BLNbtzFGKhGb",
        "outputId": "086f50e9-36d2-4d57-d725-379feac34079"
      },
      "execution_count": 9,
      "outputs": [
        {
          "output_type": "stream",
          "name": "stderr",
          "text": [
            "WARNING:emcee.autocorr:The chain is shorter than 50 times the integrated autocorrelation time for 1 parameter(s). Use this estimate with caution and run a longer chain!\n",
            "N/50 = 20000;\n",
            "tau: [38103.59897241]\n"
          ]
        },
        {
          "output_type": "stream",
          "name": "stdout",
          "text": [
            "[38103.59897241]\n"
          ]
        }
      ]
    },
    {
      "cell_type": "code",
      "source": [
        "his2 = OD_Langevin_M(h)\n",
        "IAT2 = emcee.autocorr.integrated_time(his2, quiet=True)\n",
        "print(IAT2)"
      ],
      "metadata": {
        "colab": {
          "base_uri": "https://localhost:8080/"
        },
        "id": "G2hT4qawdGJR",
        "outputId": "282b103e-a2c1-4da8-f3ad-2ff3e59d818f"
      },
      "execution_count": 16,
      "outputs": [
        {
          "output_type": "stream",
          "name": "stderr",
          "text": [
            "WARNING:emcee.autocorr:The chain is shorter than 50 times the integrated autocorrelation time for 1 parameter(s). Use this estimate with caution and run a longer chain!\n",
            "N/50 = 20000;\n",
            "tau: [60928.39850744]\n"
          ]
        },
        {
          "output_type": "stream",
          "name": "stdout",
          "text": [
            "[60928.39850744]\n"
          ]
        }
      ]
    },
    {
      "cell_type": "code",
      "source": [
        "his2 = OD_Langevin_M(h)\n",
        "IAT2 = emcee.autocorr.integrated_time(his2, quiet=True)\n",
        "print(IAT2)"
      ],
      "metadata": {
        "colab": {
          "base_uri": "https://localhost:8080/"
        },
        "id": "pPswkMgDvN8Q",
        "outputId": "e557c528-4e86-46c6-90bb-88c2ea275ac5"
      },
      "execution_count": 33,
      "outputs": [
        {
          "output_type": "stream",
          "name": "stdout",
          "text": [
            "[10238.78486497]\n"
          ]
        }
      ]
    },
    {
      "cell_type": "code",
      "source": [
        "his2 = OD_Langevin_M(h)\n",
        "IAT2 = emcee.autocorr.integrated_time(his2, quiet=True)\n",
        "print(IAT2)"
      ],
      "metadata": {
        "colab": {
          "base_uri": "https://localhost:8080/"
        },
        "id": "dMly1Y67hDS5",
        "outputId": "1b145c71-7077-48a6-e85b-58c00e6904ad"
      },
      "execution_count": 19,
      "outputs": [
        {
          "output_type": "stream",
          "name": "stderr",
          "text": [
            "WARNING:emcee.autocorr:The chain is shorter than 50 times the integrated autocorrelation time for 1 parameter(s). Use this estimate with caution and run a longer chain!\n",
            "N/50 = 20000;\n",
            "tau: [109908.43178252]\n"
          ]
        },
        {
          "output_type": "stream",
          "name": "stdout",
          "text": [
            "[109908.43178252]\n"
          ]
        }
      ]
    },
    {
      "cell_type": "code",
      "source": [
        "his2 = OD_Langevin_M(h)\n",
        "IAT2 = emcee.autocorr.integrated_time(his2, quiet=True)\n",
        "print(IAT2)"
      ],
      "metadata": {
        "colab": {
          "base_uri": "https://localhost:8080/"
        },
        "id": "Tpi74RTRwv8u",
        "outputId": "2e6038ca-58be-44be-d5a9-95a5cc51b234"
      },
      "execution_count": 38,
      "outputs": [
        {
          "output_type": "stream",
          "name": "stderr",
          "text": [
            "WARNING:emcee.autocorr:The chain is shorter than 50 times the integrated autocorrelation time for 1 parameter(s). Use this estimate with caution and run a longer chain!\n",
            "N/50 = 20000;\n",
            "tau: [22613.8417611]\n"
          ]
        },
        {
          "output_type": "stream",
          "name": "stdout",
          "text": [
            "[22613.8417611]\n"
          ]
        }
      ]
    },
    {
      "cell_type": "code",
      "source": [
        "def get_z(a):\n",
        "  # generate z from [1/a, a]\n",
        "  u = np.random.uniform()\n",
        "  z = u*(2*np.sqrt(a)-2/np.sqrt(a))+2/np.sqrt(a)\n",
        "  return (z/2)**2\n",
        "\n",
        "def affine_invariant_ensemble(L, alpha):\n",
        "  ensem = np.random.rand(2,L)\n",
        "  lst = [] # valuate x_bar\n",
        "  max_itr = 10**5\n",
        "  for _ in range(max_itr):\n",
        "    for i in range(L):\n",
        "      j = np.random.randint(0, L)\n",
        "      xi = ensem[:,i]\n",
        "      xj = ensem[:,j]\n",
        "      u = np.random.uniform()\n",
        "      z = u*(2*np.sqrt(alpha)-2/np.sqrt(alpha))+2/np.sqrt(alpha)\n",
        "      z = (z/2)**2\n",
        "      y = z*xi + (1-z)*xj\n",
        "      if np.random.random() < min(1,z*pi_R(y)/pi_R(xi)): # metropolize\n",
        "        ensem[:,i] = y\n",
        "      lst.append(np.mean(ensem[0,:]))\n",
        "  return lst # max_itr by L matrix"
      ],
      "metadata": {
        "id": "zaqBEnkVKl1D"
      },
      "execution_count": 20,
      "outputs": []
    },
    {
      "cell_type": "code",
      "source": [
        "L_list = [i for i in range(3, 11)]\n",
        "alpha = np.sqrt(2)\n",
        "IAT3 = []\n",
        "\n",
        "for L in tqdm.tqdm(L_list):\n",
        "  his3 = affine_invariant_ensemble(L, alpha)\n",
        "  IAT3.append(emcee.autocorr.integrated_time(his3, quiet=True))"
      ],
      "metadata": {
        "colab": {
          "base_uri": "https://localhost:8080/"
        },
        "id": "DW4N-tOkhnMk",
        "outputId": "ab4bbd94-e93d-4499-9172-ea8747077477"
      },
      "execution_count": 39,
      "outputs": [
        {
          "output_type": "stream",
          "name": "stderr",
          "text": [
            "\r  0%|          | 0/8 [00:00<?, ?it/s]WARNING:emcee.autocorr:The chain is shorter than 50 times the integrated autocorrelation time for 1 parameter(s). Use this estimate with caution and run a longer chain!\n",
            "N/50 = 6000;\n",
            "tau: [29369.56215644]\n",
            " 12%|█▎        | 1/8 [00:17<02:04, 17.85s/it]WARNING:emcee.autocorr:The chain is shorter than 50 times the integrated autocorrelation time for 1 parameter(s). Use this estimate with caution and run a longer chain!\n",
            "N/50 = 8000;\n",
            "tau: [50661.24548097]\n",
            " 25%|██▌       | 2/8 [00:40<02:03, 20.64s/it]WARNING:emcee.autocorr:The chain is shorter than 50 times the integrated autocorrelation time for 1 parameter(s). Use this estimate with caution and run a longer chain!\n",
            "N/50 = 10000;\n",
            "tau: [24970.32172833]\n",
            " 38%|███▊      | 3/8 [01:08<01:59, 23.99s/it]WARNING:emcee.autocorr:The chain is shorter than 50 times the integrated autocorrelation time for 1 parameter(s). Use this estimate with caution and run a longer chain!\n",
            "N/50 = 12000;\n",
            "tau: [72722.2776023]\n",
            " 50%|█████     | 4/8 [01:42<01:51, 27.81s/it]WARNING:emcee.autocorr:The chain is shorter than 50 times the integrated autocorrelation time for 1 parameter(s). Use this estimate with caution and run a longer chain!\n",
            "N/50 = 14000;\n",
            "tau: [48219.85817719]\n",
            " 62%|██████▎   | 5/8 [02:22<01:37, 32.34s/it]WARNING:emcee.autocorr:The chain is shorter than 50 times the integrated autocorrelation time for 1 parameter(s). Use this estimate with caution and run a longer chain!\n",
            "N/50 = 16000;\n",
            "tau: [41787.22015672]\n",
            " 75%|███████▌  | 6/8 [03:05<01:12, 36.08s/it]WARNING:emcee.autocorr:The chain is shorter than 50 times the integrated autocorrelation time for 1 parameter(s). Use this estimate with caution and run a longer chain!\n",
            "N/50 = 18000;\n",
            "tau: [101105.10651416]\n",
            " 88%|████████▊ | 7/8 [03:54<00:40, 40.09s/it]WARNING:emcee.autocorr:The chain is shorter than 50 times the integrated autocorrelation time for 1 parameter(s). Use this estimate with caution and run a longer chain!\n",
            "N/50 = 20000;\n",
            "tau: [93464.43574332]\n",
            "100%|██████████| 8/8 [04:48<00:00, 36.04s/it]\n"
          ]
        }
      ]
    },
    {
      "cell_type": "code",
      "source": [
        "# IAT v.s. L\n",
        "plt.plot(L_list, IAT3, label = \"Affine invariant ensemble Metropolis\")\n",
        "plt.xscale('log')\n",
        "plt.yscale('log')\n",
        "plt.title('IAT v.s. L')\n",
        "plt.xlabel('L')\n",
        "plt.ylabel('IAT')\n",
        "plt.grid(visible=True, which='both', axis='both')\n",
        "plt.legend()\n",
        "plt.savefig(\"75L.png\")\n",
        "files.download(\"75L.png\")\n",
        "plt.show()"
      ],
      "metadata": {
        "colab": {
          "base_uri": "https://localhost:8080/",
          "height": 299
        },
        "id": "QYqKiPCYidhq",
        "outputId": "56a981ba-9881-468f-ff68-83a4c96853ed"
      },
      "execution_count": 40,
      "outputs": [
        {
          "output_type": "display_data",
          "data": {
            "text/plain": [
              "<IPython.core.display.Javascript object>"
            ],
            "application/javascript": [
              "\n",
              "    async function download(id, filename, size) {\n",
              "      if (!google.colab.kernel.accessAllowed) {\n",
              "        return;\n",
              "      }\n",
              "      const div = document.createElement('div');\n",
              "      const label = document.createElement('label');\n",
              "      label.textContent = `Downloading \"${filename}\": `;\n",
              "      div.appendChild(label);\n",
              "      const progress = document.createElement('progress');\n",
              "      progress.max = size;\n",
              "      div.appendChild(progress);\n",
              "      document.body.appendChild(div);\n",
              "\n",
              "      const buffers = [];\n",
              "      let downloaded = 0;\n",
              "\n",
              "      const channel = await google.colab.kernel.comms.open(id);\n",
              "      // Send a message to notify the kernel that we're ready.\n",
              "      channel.send({})\n",
              "\n",
              "      for await (const message of channel.messages) {\n",
              "        // Send a message to notify the kernel that we're ready.\n",
              "        channel.send({})\n",
              "        if (message.buffers) {\n",
              "          for (const buffer of message.buffers) {\n",
              "            buffers.push(buffer);\n",
              "            downloaded += buffer.byteLength;\n",
              "            progress.value = downloaded;\n",
              "          }\n",
              "        }\n",
              "      }\n",
              "      const blob = new Blob(buffers, {type: 'application/binary'});\n",
              "      const a = document.createElement('a');\n",
              "      a.href = window.URL.createObjectURL(blob);\n",
              "      a.download = filename;\n",
              "      div.appendChild(a);\n",
              "      a.click();\n",
              "      div.remove();\n",
              "    }\n",
              "  "
            ]
          },
          "metadata": {}
        },
        {
          "output_type": "display_data",
          "data": {
            "text/plain": [
              "<IPython.core.display.Javascript object>"
            ],
            "application/javascript": [
              "download(\"download_5426ad9d-99d8-4d0e-8769-55d60a8a41a7\", \"75L.png\", 17871)"
            ]
          },
          "metadata": {}
        },
        {
          "output_type": "display_data",
          "data": {
            "text/plain": [
              "<Figure size 432x288 with 1 Axes>"
            ],
            "image/png": "[encoded data removed]"
          },
          "metadata": {
            "needs_background": "light"
          }
        }
      ]
    },
    {
      "cell_type": "code",
      "source": [
        "L_list = [i for i in range(3, 11)]\n",
        "alpha = np.sqrt(2)\n",
        "IAT3 = []\n",
        "\n",
        "for L in tqdm.tqdm(L_list):\n",
        "  his3 = affine_invariant_ensemble(L, alpha)\n",
        "  IAT3.append(emcee.autocorr.integrated_time(his3, quiet=True))"
      ],
      "metadata": {
        "colab": {
          "base_uri": "https://localhost:8080/"
        },
        "id": "oU24yXyJ5Zw1",
        "outputId": "f21128b3-8429-436d-a1f9-f1c2792917af"
      },
      "execution_count": 41,
      "outputs": [
        {
          "output_type": "stream",
          "name": "stderr",
          "text": [
            "\r  0%|          | 0/8 [00:00<?, ?it/s]WARNING:emcee.autocorr:The chain is shorter than 50 times the integrated autocorrelation time for 1 parameter(s). Use this estimate with caution and run a longer chain!\n",
            "N/50 = 6000;\n",
            "tau: [34078.42052521]\n",
            " 12%|█▎        | 1/8 [00:17<02:02, 17.54s/it]WARNING:emcee.autocorr:The chain is shorter than 50 times the integrated autocorrelation time for 1 parameter(s). Use this estimate with caution and run a longer chain!\n",
            "N/50 = 8000;\n",
            "tau: [48296.55095803]\n",
            " 25%|██▌       | 2/8 [00:41<02:06, 21.13s/it]WARNING:emcee.autocorr:The chain is shorter than 50 times the integrated autocorrelation time for 1 parameter(s). Use this estimate with caution and run a longer chain!\n",
            "N/50 = 10000;\n",
            "tau: [55497.43923206]\n",
            " 38%|███▊      | 3/8 [01:09<02:02, 24.58s/it]WARNING:emcee.autocorr:The chain is shorter than 50 times the integrated autocorrelation time for 1 parameter(s). Use this estimate with caution and run a longer chain!\n",
            "N/50 = 12000;\n",
            "tau: [70044.37625592]\n",
            " 50%|█████     | 4/8 [01:44<01:54, 28.60s/it]WARNING:emcee.autocorr:The chain is shorter than 50 times the integrated autocorrelation time for 1 parameter(s). Use this estimate with caution and run a longer chain!\n",
            "N/50 = 14000;\n",
            "tau: [37575.84194755]\n",
            " 62%|██████▎   | 5/8 [02:23<01:37, 32.34s/it]WARNING:emcee.autocorr:The chain is shorter than 50 times the integrated autocorrelation time for 1 parameter(s). Use this estimate with caution and run a longer chain!\n",
            "N/50 = 16000;\n",
            "tau: [64804.31838332]\n",
            " 75%|███████▌  | 6/8 [03:07<01:12, 36.24s/it]WARNING:emcee.autocorr:The chain is shorter than 50 times the integrated autocorrelation time for 1 parameter(s). Use this estimate with caution and run a longer chain!\n",
            "N/50 = 18000;\n",
            "tau: [109571.17348542]\n",
            " 88%|████████▊ | 7/8 [03:56<00:40, 40.50s/it]WARNING:emcee.autocorr:The chain is shorter than 50 times the integrated autocorrelation time for 1 parameter(s). Use this estimate with caution and run a longer chain!\n",
            "N/50 = 20000;\n",
            "tau: [125926.19981109]\n",
            "100%|██████████| 8/8 [04:50<00:00, 36.34s/it]\n"
          ]
        }
      ]
    },
    {
      "cell_type": "code",
      "source": [
        "# IAT v.s. L\n",
        "plt.plot(L_list, IAT3, label = \"Affine invariant ensemble Metropolis\")\n",
        "plt.xscale('log')\n",
        "plt.yscale('log')\n",
        "plt.title('IAT v.s. L')\n",
        "plt.xlabel('L')\n",
        "plt.ylabel('IAT')\n",
        "plt.grid(visible=True, which='both', axis='both')\n",
        "plt.legend()\n",
        "plt.savefig(\"75L.png\")\n",
        "files.download(\"75L.png\")\n",
        "plt.show()"
      ],
      "metadata": {
        "colab": {
          "base_uri": "https://localhost:8080/",
          "height": 299
        },
        "id": "eKmxW3kL5hKM",
        "outputId": "8b92ed06-322d-4dba-d7b6-aa1f2f03e11a"
      },
      "execution_count": 42,
      "outputs": [
        {
          "output_type": "display_data",
          "data": {
            "text/plain": [
              "<IPython.core.display.Javascript object>"
            ],
            "application/javascript": [
              "\n",
              "    async function download(id, filename, size) {\n",
              "      if (!google.colab.kernel.accessAllowed) {\n",
              "        return;\n",
              "      }\n",
              "      const div = document.createElement('div');\n",
              "      const label = document.createElement('label');\n",
              "      label.textContent = `Downloading \"${filename}\": `;\n",
              "      div.appendChild(label);\n",
              "      const progress = document.createElement('progress');\n",
              "      progress.max = size;\n",
              "      div.appendChild(progress);\n",
              "      document.body.appendChild(div);\n",
              "\n",
              "      const buffers = [];\n",
              "      let downloaded = 0;\n",
              "\n",
              "      const channel = await google.colab.kernel.comms.open(id);\n",
              "      // Send a message to notify the kernel that we're ready.\n",
              "      channel.send({})\n",
              "\n",
              "      for await (const message of channel.messages) {\n",
              "        // Send a message to notify the kernel that we're ready.\n",
              "        channel.send({})\n",
              "        if (message.buffers) {\n",
              "          for (const buffer of message.buffers) {\n",
              "            buffers.push(buffer);\n",
              "            downloaded += buffer.byteLength;\n",
              "            progress.value = downloaded;\n",
              "          }\n",
              "        }\n",
              "      }\n",
              "      const blob = new Blob(buffers, {type: 'application/binary'});\n",
              "      const a = document.createElement('a');\n",
              "      a.href = window.URL.createObjectURL(blob);\n",
              "      a.download = filename;\n",
              "      div.appendChild(a);\n",
              "      a.click();\n",
              "      div.remove();\n",
              "    }\n",
              "  "
            ]
          },
          "metadata": {}
        },
        {
          "output_type": "display_data",
          "data": {
            "text/plain": [
              "<IPython.core.display.Javascript object>"
            ],
            "application/javascript": [
              "download(\"download_203cedad-0fd3-4519-838b-052c0411003c\", \"75L.png\", 15352)"
            ]
          },
          "metadata": {}
        },
        {
          "output_type": "display_data",
          "data": {
            "text/plain": [
              "<Figure size 432x288 with 1 Axes>"
            ],
            "image/png": "[encoded data removed]"
          },
          "metadata": {
            "needs_background": "light"
          }
        }
      ]
    },
    {
      "cell_type": "code",
      "source": [
        "alpha_list = [i for i in range(2, 11)]\n",
        "L = 5\n",
        "IAT4 = []\n",
        "\n",
        "for alpha in tqdm.tqdm(alpha_list):\n",
        "  his4 = affine_invariant_ensemble(L, alpha)\n",
        "  IAT4.append(emcee.autocorr.integrated_time(his4, quiet=True))"
      ],
      "metadata": {
        "colab": {
          "base_uri": "https://localhost:8080/"
        },
        "id": "G9Bs_Xw0n6xw",
        "outputId": "1aaf7bd9-83c7-4e4c-8720-809a2ced7588"
      },
      "execution_count": 29,
      "outputs": [
        {
          "output_type": "stream",
          "name": "stderr",
          "text": [
            "\r  0%|          | 0/9 [00:00<?, ?it/s]WARNING:emcee.autocorr:The chain is shorter than 50 times the integrated autocorrelation time for 1 parameter(s). Use this estimate with caution and run a longer chain!\n",
            "N/50 = 10000;\n",
            "tau: [57239.9178779]\n",
            " 11%|█         | 1/9 [00:28<03:51, 29.00s/it]WARNING:emcee.autocorr:The chain is shorter than 50 times the integrated autocorrelation time for 1 parameter(s). Use this estimate with caution and run a longer chain!\n",
            "N/50 = 10000;\n",
            "tau: [46021.11639926]\n",
            " 22%|██▏       | 2/9 [00:55<03:13, 27.60s/it]WARNING:emcee.autocorr:The chain is shorter than 50 times the integrated autocorrelation time for 1 parameter(s). Use this estimate with caution and run a longer chain!\n",
            "N/50 = 10000;\n",
            "tau: [63211.19486856]\n",
            " 33%|███▎      | 3/9 [01:22<02:42, 27.16s/it]WARNING:emcee.autocorr:The chain is shorter than 50 times the integrated autocorrelation time for 1 parameter(s). Use this estimate with caution and run a longer chain!\n",
            "N/50 = 10000;\n",
            "tau: [27443.2725636]\n",
            " 44%|████▍     | 4/9 [01:48<02:14, 26.90s/it]WARNING:emcee.autocorr:The chain is shorter than 50 times the integrated autocorrelation time for 1 parameter(s). Use this estimate with caution and run a longer chain!\n",
            "N/50 = 10000;\n",
            "tau: [41529.72873042]\n",
            " 56%|█████▌    | 5/9 [02:16<01:48, 27.21s/it]WARNING:emcee.autocorr:The chain is shorter than 50 times the integrated autocorrelation time for 1 parameter(s). Use this estimate with caution and run a longer chain!\n",
            "N/50 = 10000;\n",
            "tau: [18077.89658077]\n",
            " 67%|██████▋   | 6/9 [02:42<01:20, 26.69s/it]WARNING:emcee.autocorr:The chain is shorter than 50 times the integrated autocorrelation time for 1 parameter(s). Use this estimate with caution and run a longer chain!\n",
            "N/50 = 10000;\n",
            "tau: [37672.82963684]\n",
            " 78%|███████▊  | 7/9 [03:08<00:52, 26.43s/it]WARNING:emcee.autocorr:The chain is shorter than 50 times the integrated autocorrelation time for 1 parameter(s). Use this estimate with caution and run a longer chain!\n",
            "N/50 = 10000;\n",
            "tau: [59345.16819242]\n",
            " 89%|████████▉ | 8/9 [03:33<00:26, 26.26s/it]WARNING:emcee.autocorr:The chain is shorter than 50 times the integrated autocorrelation time for 1 parameter(s). Use this estimate with caution and run a longer chain!\n",
            "N/50 = 10000;\n",
            "tau: [33949.95954366]\n",
            "100%|██████████| 9/9 [04:00<00:00, 26.71s/it]\n"
          ]
        }
      ]
    },
    {
      "cell_type": "code",
      "source": [
        "# IAT v.s. alpha\n",
        "plt.plot(alpha_list, IAT4, label = \"Affine invariant ensemble Metropolis\")\n",
        "plt.xscale('log')\n",
        "plt.yscale('log')\n",
        "plt.title('IAT v.s. alpha')\n",
        "plt.xlabel('alpha')\n",
        "plt.ylabel('IAT')\n",
        "plt.grid(visible=True, which='both', axis='both')\n",
        "plt.legend()\n",
        "plt.savefig(\"75a.png\")\n",
        "files.download(\"75a.png\")\n",
        "plt.show()"
      ],
      "metadata": {
        "colab": {
          "base_uri": "https://localhost:8080/",
          "height": 299
        },
        "id": "NbF_necVomZv",
        "outputId": "f3653973-a1aa-47d1-fdfb-12f46f0b880d"
      },
      "execution_count": 31,
      "outputs": [
        {
          "output_type": "display_data",
          "data": {
            "text/plain": [
              "<IPython.core.display.Javascript object>"
            ],
            "application/javascript": [
              "\n",
              "    async function download(id, filename, size) {\n",
              "      if (!google.colab.kernel.accessAllowed) {\n",
              "        return;\n",
              "      }\n",
              "      const div = document.createElement('div');\n",
              "      const label = document.createElement('label');\n",
              "      label.textContent = `Downloading \"${filename}\": `;\n",
              "      div.appendChild(label);\n",
              "      const progress = document.createElement('progress');\n",
              "      progress.max = size;\n",
              "      div.appendChild(progress);\n",
              "      document.body.appendChild(div);\n",
              "\n",
              "      const buffers = [];\n",
              "      let downloaded = 0;\n",
              "\n",
              "      const channel = await google.colab.kernel.comms.open(id);\n",
              "      // Send a message to notify the kernel that we're ready.\n",
              "      channel.send({})\n",
              "\n",
              "      for await (const message of channel.messages) {\n",
              "        // Send a message to notify the kernel that we're ready.\n",
              "        channel.send({})\n",
              "        if (message.buffers) {\n",
              "          for (const buffer of message.buffers) {\n",
              "            buffers.push(buffer);\n",
              "            downloaded += buffer.byteLength;\n",
              "            progress.value = downloaded;\n",
              "          }\n",
              "        }\n",
              "      }\n",
              "      const blob = new Blob(buffers, {type: 'application/binary'});\n",
              "      const a = document.createElement('a');\n",
              "      a.href = window.URL.createObjectURL(blob);\n",
              "      a.download = filename;\n",
              "      div.appendChild(a);\n",
              "      a.click();\n",
              "      div.remove();\n",
              "    }\n",
              "  "
            ]
          },
          "metadata": {}
        },
        {
          "output_type": "display_data",
          "data": {
            "text/plain": [
              "<IPython.core.display.Javascript object>"
            ],
            "application/javascript": [
              "download(\"download_94e4a11b-4190-4c99-8c96-3b5ca4f89115\", \"75a.png\", 19726)"
            ]
          },
          "metadata": {}
        },
        {
          "output_type": "display_data",
          "data": {
            "text/plain": [
              "<Figure size 432x288 with 1 Axes>"
            ],
            "image/png": "[encoded data removed]"
          },
          "metadata": {
            "needs_background": "light"
          }
        }
      ]
    }
  ]
}